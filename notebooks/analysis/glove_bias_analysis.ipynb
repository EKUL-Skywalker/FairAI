{
 "cells": [
  {
   "cell_type": "code",
   "execution_count": 1,
   "id": "8ba2915c",
   "metadata": {
    "pycharm": {
     "name": "#%%\n"
    }
   },
   "outputs": [],
   "source": [
    "import numpy as np\n",
    "import pandas as pd\n",
    "import matplotlib\n",
    "import matplotlib.pyplot as plt\n",
    "import seaborn as sns\n",
    "import warnings\n",
    "import pickle as pkl\n",
    "import sys\n",
    "sys.path.insert(0, \"../..\")\n",
    "\n",
    "\n",
    "matplotlib.rcParams['figure.figsize'] = (10, 8)\n",
    "warnings.filterwarnings('ignore')"
   ]
  },
  {
   "cell_type": "code",
   "execution_count": 2,
   "id": "6391d6a6",
   "metadata": {
    "pycharm": {
     "name": "#%%\n"
    }
   },
   "outputs": [
    {
     "name": "stdout",
     "output_type": "stream",
     "text": [
      "85577 7\n"
     ]
    }
   ],
   "source": [
    "scores = np.load('/tmp/scores_100.npy')\n",
    "# 85577 docs and 7 weat tests\n",
    "NUM_DOCS, NUM_TESTS = scores.shape\n",
    "print(NUM_DOCS, NUM_TESTS)"
   ]
  },
  {
   "cell_type": "code",
   "execution_count": 3,
   "id": "db45e327",
   "metadata": {
    "pycharm": {
     "name": "#%%\n"
    }
   },
   "outputs": [
    {
     "data": {
      "text/plain": [
       "array([[ 0.70791888,  0.53616065, -0.21749191, ...,  0.38834177,\n",
       "         0.37772273,  0.57135152],\n",
       "       [ 0.70791887,  0.53616079, -0.2174933 , ...,  0.38834176,\n",
       "         0.37772276,  0.57135152],\n",
       "       [ 0.70791885,  0.53616074, -0.21749323, ...,  0.38834172,\n",
       "         0.37772267,  0.5713514 ],\n",
       "       ...,\n",
       "       [ 0.70791885,  0.53616071, -0.21749322, ...,  0.38834176,\n",
       "         0.3777227 ,  0.57135151],\n",
       "       [ 0.70791885,  0.53616071, -0.21749322, ...,  0.38834176,\n",
       "         0.3777227 ,  0.57135151],\n",
       "       [ 0.70791885,  0.53616071, -0.21749322, ...,  0.38834176,\n",
       "         0.3777227 ,  0.57135151]])"
      ]
     },
     "execution_count": 3,
     "metadata": {},
     "output_type": "execute_result"
    }
   ],
   "source": [
    "scores"
   ]
  },
  {
   "cell_type": "markdown",
   "id": "fb526321",
   "metadata": {
    "pycharm": {
     "name": "#%%\n"
    }
   },
   "source": [
    "# calculate differential bias for each document\n",
    "\n",
    "$\\Delta_{doc} B \\approx B_{weat}(w^*) - B_{weat}(\\tilde{w})$"
   ]
  },
  {
   "cell_type": "code",
   "execution_count": 4,
   "id": "3827faf4",
   "metadata": {
    "pycharm": {
     "name": "#%%\n"
    }
   },
   "outputs": [],
   "source": [
    "from models.fast_glove import FastGlove\n",
    "from utils.weat import WEAT\n",
    "from utils.dataset import Dataset"
   ]
  },
  {
   "cell_type": "code",
   "execution_count": 5,
   "id": "09227271",
   "metadata": {
    "pycharm": {
     "name": "#%%\n"
    }
   },
   "outputs": [],
   "source": [
    "model = FastGlove(embedding_dir='../../embeddings/')\n",
    "scorer = WEAT(model, model.M.W, words_json='../../weat/weat.json')\n",
    "ds = Dataset(\"../../../simplewiki-20171103-pages-articles-multistream.xml.bz2\")"
   ]
  },
  {
   "cell_type": "code",
   "execution_count": 6,
   "id": "e145d135",
   "metadata": {
    "pycharm": {
     "name": "#%%\n"
    }
   },
   "outputs": [],
   "source": [
    "b_weat_star = np.array(scorer.get_scores())"
   ]
  },
  {
   "cell_type": "code",
   "execution_count": 7,
   "id": "a10642fb",
   "metadata": {
    "pycharm": {
     "name": "#%%\n"
    }
   },
   "outputs": [
    {
     "data": {
      "text/html": [
       "<div>\n",
       "<style scoped>\n",
       "    .dataframe tbody tr th:only-of-type {\n",
       "        vertical-align: middle;\n",
       "    }\n",
       "\n",
       "    .dataframe tbody tr th {\n",
       "        vertical-align: top;\n",
       "    }\n",
       "\n",
       "    .dataframe thead th {\n",
       "        text-align: right;\n",
       "    }\n",
       "</style>\n",
       "<table border=\"1\" class=\"dataframe\">\n",
       "  <thead>\n",
       "    <tr style=\"text-align: right;\">\n",
       "      <th></th>\n",
       "      <th>test_0</th>\n",
       "      <th>test_1</th>\n",
       "      <th>test_2</th>\n",
       "      <th>test_3</th>\n",
       "      <th>test_4</th>\n",
       "      <th>test_5</th>\n",
       "      <th>test_6</th>\n",
       "    </tr>\n",
       "  </thead>\n",
       "  <tbody>\n",
       "    <tr>\n",
       "      <th>0</th>\n",
       "      <td>2.557712e-08</td>\n",
       "      <td>6.235274e-08</td>\n",
       "      <td>1.315591e-06</td>\n",
       "      <td>6.311380e-10</td>\n",
       "      <td>7.161867e-09</td>\n",
       "      <td>3.034066e-08</td>\n",
       "      <td>8.739641e-09</td>\n",
       "    </tr>\n",
       "    <tr>\n",
       "      <th>1</th>\n",
       "      <td>1.733142e-08</td>\n",
       "      <td>7.336544e-08</td>\n",
       "      <td>8.125042e-08</td>\n",
       "      <td>4.103502e-10</td>\n",
       "      <td>3.867812e-09</td>\n",
       "      <td>5.717173e-08</td>\n",
       "      <td>6.272856e-09</td>\n",
       "    </tr>\n",
       "    <tr>\n",
       "      <th>2</th>\n",
       "      <td>5.168573e-09</td>\n",
       "      <td>2.509856e-08</td>\n",
       "      <td>1.080302e-08</td>\n",
       "      <td>4.440892e-16</td>\n",
       "      <td>3.394646e-08</td>\n",
       "      <td>2.577859e-08</td>\n",
       "      <td>1.101318e-07</td>\n",
       "    </tr>\n",
       "    <tr>\n",
       "      <th>3</th>\n",
       "      <td>0.000000e+00</td>\n",
       "      <td>0.000000e+00</td>\n",
       "      <td>0.000000e+00</td>\n",
       "      <td>4.440892e-16</td>\n",
       "      <td>1.797602e-08</td>\n",
       "      <td>0.000000e+00</td>\n",
       "      <td>5.712599e-09</td>\n",
       "    </tr>\n",
       "    <tr>\n",
       "      <th>4</th>\n",
       "      <td>0.000000e+00</td>\n",
       "      <td>0.000000e+00</td>\n",
       "      <td>6.529529e-09</td>\n",
       "      <td>4.440892e-16</td>\n",
       "      <td>5.551115e-17</td>\n",
       "      <td>0.000000e+00</td>\n",
       "      <td>0.000000e+00</td>\n",
       "    </tr>\n",
       "  </tbody>\n",
       "</table>\n",
       "</div>"
      ],
      "text/plain": [
       "         test_0        test_1        test_2        test_3        test_4  \\\n",
       "0  2.557712e-08  6.235274e-08  1.315591e-06  6.311380e-10  7.161867e-09   \n",
       "1  1.733142e-08  7.336544e-08  8.125042e-08  4.103502e-10  3.867812e-09   \n",
       "2  5.168573e-09  2.509856e-08  1.080302e-08  4.440892e-16  3.394646e-08   \n",
       "3  0.000000e+00  0.000000e+00  0.000000e+00  4.440892e-16  1.797602e-08   \n",
       "4  0.000000e+00  0.000000e+00  6.529529e-09  4.440892e-16  5.551115e-17   \n",
       "\n",
       "         test_5        test_6  \n",
       "0  3.034066e-08  8.739641e-09  \n",
       "1  5.717173e-08  6.272856e-09  \n",
       "2  2.577859e-08  1.101318e-07  \n",
       "3  0.000000e+00  5.712599e-09  \n",
       "4  0.000000e+00  0.000000e+00  "
      ]
     },
     "execution_count": 7,
     "metadata": {},
     "output_type": "execute_result"
    }
   ],
   "source": [
    "# this dataframe has weat scores for documents\n",
    "df = pd.DataFrame(np.abs(scores - b_weat_star), columns=[\"test_{}\".format(i) for i in range(NUM_TESTS)])\n",
    "df.head()"
   ]
  },
  {
   "cell_type": "code",
   "execution_count": 8,
   "id": "5691601f",
   "metadata": {
    "pycharm": {
     "name": "#%%\n"
    }
   },
   "outputs": [],
   "source": [
    "# sample mean score\n",
    "df['scores_mean'] = df.mean(axis=1)\n",
    "# length of document\n",
    "df['len'] = df.index.map(lambda x: len(ds.lines[x]))\n",
    "df['test_3'] /= df.len"
   ]
  },
  {
   "cell_type": "code",
   "execution_count": 9,
   "id": "f23a296e",
   "metadata": {
    "pycharm": {
     "name": "#%%\n"
    }
   },
   "outputs": [],
   "source": [
    "def get_docs_sorted_on_column(dframe, col, n=2):\n",
    "    \"\"\"\n",
    "    col: test name\n",
    "    n: number of docs to return\n",
    "    \"\"\"\n",
    "    dframe[col].plot(kind=\"density\", title=col)\n",
    "    series = dframe.sort_values(col, ascending=False).head(n)\n",
    "    return [ds.lines[i] for i in series.index]"
   ]
  },
  {
   "cell_type": "code",
   "execution_count": 10,
   "id": "1cef6ebb",
   "metadata": {
    "pycharm": {
     "name": "#%%\n"
    }
   },
   "outputs": [],
   "source": [
    "# #most biased on mean score\n",
    "col = 'scores_mean'\n",
    "docs = df.sort_values('scores_mean', ascending=False).head(10)[col]"
   ]
  },
  {
   "cell_type": "code",
   "execution_count": 11,
   "id": "54838062",
   "metadata": {
    "pycharm": {
     "name": "#%%\n"
    }
   },
   "outputs": [
    {
     "data": {
      "text/plain": [
       "68848    0.351254\n",
       "82886    0.104275\n",
       "54065    0.000976\n",
       "11498    0.000233\n",
       "32598    0.000068\n",
       "67779    0.000027\n",
       "63677    0.000017\n",
       "25071    0.000015\n",
       "15040    0.000013\n",
       "73615    0.000008\n",
       "Name: scores_mean, dtype: float64"
      ]
     },
     "execution_count": 11,
     "metadata": {},
     "output_type": "execute_result"
    }
   ],
   "source": [
    "docs"
   ]
  },
  {
   "cell_type": "markdown",
   "id": "eafff4f1",
   "metadata": {
    "pycharm": {
     "name": "#%% md\n"
    }
   },
   "source": [
    "# top most biased document for each test"
   ]
  },
  {
   "cell_type": "code",
   "execution_count": 12,
   "id": "73273a23",
   "metadata": {
    "pycharm": {
     "name": "#%%\n"
    }
   },
   "outputs": [],
   "source": [
    "# \" \".join(get_docs_sorted_on_column(df, \"scores_mean\", n = 1)[0])"
   ]
  },
  {
   "cell_type": "code",
   "execution_count": 13,
   "id": "f7194105",
   "metadata": {
    "pycharm": {
     "name": "#%%\n"
    }
   },
   "outputs": [],
   "source": [
    "# \" \".join(get_docs_sorted_on_column(df, \"test_0\", n = 1)[0])"
   ]
  },
  {
   "cell_type": "code",
   "execution_count": 14,
   "id": "63d2b635",
   "metadata": {
    "pycharm": {
     "name": "#%%\n"
    }
   },
   "outputs": [],
   "source": [
    "# \" \".join(get_docs_sorted_on_column(df, \"test_1\", n = 1)[0])"
   ]
  },
  {
   "cell_type": "code",
   "execution_count": 15,
   "id": "76087afd",
   "metadata": {
    "pycharm": {
     "name": "#%%\n"
    }
   },
   "outputs": [],
   "source": [
    "# \" \".join(get_docs_sorted_on_column(df, \"test_2\", n = 1)[0])"
   ]
  },
  {
   "cell_type": "code",
   "execution_count": 16,
   "id": "a0a5480c",
   "metadata": {
    "pycharm": {
     "name": "#%%\n"
    }
   },
   "outputs": [
    {
     "data": {
      "text/plain": [
       "'the dixie cups is an american girl group they perform rhythm and blues mixed with pop music the group formed in in new orleans chapel of love is their best known song the group members are barbara ann hawkins joan johnson and rosa lee hawkins there have been other members in the past'"
      ]
     },
     "execution_count": 16,
     "metadata": {},
     "output_type": "execute_result"
    },
    {
     "data": {
      "image/png": "[encoded data removed]",
      "text/plain": [
       "<Figure size 720x576 with 1 Axes>"
      ]
     },
     "metadata": {
      "needs_background": "light"
     },
     "output_type": "display_data"
    }
   ],
   "source": [
    "\" \".join(get_docs_sorted_on_column(df, \"test_3\", n = 1)[0])"
   ]
  },
  {
   "cell_type": "code",
   "execution_count": 17,
   "id": "609dfabd",
   "metadata": {
    "pycharm": {
     "name": "#%%\n"
    }
   },
   "outputs": [],
   "source": [
    "# \" \".join(get_docs_sorted_on_column(df, \"test_4\", n = 1)[0])"
   ]
  },
  {
   "cell_type": "code",
   "execution_count": 18,
   "id": "516df7cb",
   "metadata": {
    "pycharm": {
     "name": "#%%\n"
    }
   },
   "outputs": [],
   "source": [
    "# \" \".join(get_docs_sorted_on_column(df, \"test_5\", n = 1)[0])"
   ]
  },
  {
   "cell_type": "code",
   "execution_count": 19,
   "id": "8d4c0cdc",
   "metadata": {
    "pycharm": {
     "name": "#%%\n"
    }
   },
   "outputs": [],
   "source": [
    "# \" \".join(get_docs_sorted_on_column(df, \"test_6\", n = 1)[0])"
   ]
  },
  {
   "cell_type": "markdown",
   "id": "0c2bf4ce",
   "metadata": {
    "pycharm": {
     "name": "#%% md\n"
    }
   },
   "source": [
    "# document index vs differential bias"
   ]
  },
  {
   "cell_type": "code",
   "execution_count": 20,
   "id": "708c7657",
   "metadata": {
    "pycharm": {
     "name": "#%%\n"
    }
   },
   "outputs": [
    {
     "data": {
      "image/png": "[encoded data removed]",
      "text/plain": [
       "<Figure size 720x576 with 1 Axes>"
      ]
     },
     "metadata": {
      "needs_background": "light"
     },
     "output_type": "display_data"
    }
   ],
   "source": [
    "\n",
    "def plot_index_vs_bias(col):\n",
    "    ax = df[col].plot(kind=\"line\", title=col)\n",
    "    ax.set_xlabel(\"document index\")\n",
    "    ax.set_ylabel(\"$\\Delta_{doc} B $\")\n",
    "plot_index_vs_bias(\"scores_mean\")"
   ]
  },
  {
   "cell_type": "code",
   "execution_count": 21,
   "id": "30e74e10",
   "metadata": {
    "pycharm": {
     "name": "#%%\n"
    }
   },
   "outputs": [
    {
     "data": {
      "image/png": "[encoded data removed]",
      "text/plain": [
       "<Figure size 720x576 with 1 Axes>"
      ]
     },
     "metadata": {
      "needs_background": "light"
     },
     "output_type": "display_data"
    }
   ],
   "source": [
    "plot_index_vs_bias(\"test_0\")"
   ]
  },
  {
   "cell_type": "code",
   "execution_count": 22,
   "id": "021dd596",
   "metadata": {
    "pycharm": {
     "name": "#%%\n"
    }
   },
   "outputs": [
    {
     "data": {
      "image/png": "[encoded data removed]",
      "text/plain": [
       "<Figure size 720x576 with 1 Axes>"
      ]
     },
     "metadata": {
      "needs_background": "light"
     },
     "output_type": "display_data"
    }
   ],
   "source": [
    "plot_index_vs_bias(\"test_1\")"
   ]
  },
  {
   "cell_type": "code",
   "execution_count": 23,
   "id": "023b7e79",
   "metadata": {
    "pycharm": {
     "name": "#%%\n"
    }
   },
   "outputs": [
    {
     "data": {
      "image/png": "[encoded data removed]",
      "text/plain": [
       "<Figure size 720x576 with 1 Axes>"
      ]
     },
     "metadata": {
      "needs_background": "light"
     },
     "output_type": "display_data"
    }
   ],
   "source": [
    "plot_index_vs_bias(\"test_2\")"
   ]
  },
  {
   "cell_type": "code",
   "execution_count": 24,
   "id": "8a863ca5",
   "metadata": {
    "pycharm": {
     "name": "#%%\n"
    }
   },
   "outputs": [
    {
     "data": {
      "image/png": "[encoded data removed]",
      "text/plain": [
       "<Figure size 720x576 with 1 Axes>"
      ]
     },
     "metadata": {
      "needs_background": "light"
     },
     "output_type": "display_data"
    }
   ],
   "source": [
    "plot_index_vs_bias(\"test_3\")"
   ]
  },
  {
   "cell_type": "code",
   "execution_count": 25,
   "id": "32b795ef",
   "metadata": {
    "pycharm": {
     "name": "#%%\n"
    }
   },
   "outputs": [
    {
     "data": {
      "image/png": "[encoded data removed]",
      "text/plain": [
       "<Figure size 720x576 with 1 Axes>"
      ]
     },
     "metadata": {
      "needs_background": "light"
     },
     "output_type": "display_data"
    }
   ],
   "source": [
    "plot_index_vs_bias(\"test_4\")"
   ]
  },
  {
   "cell_type": "code",
   "execution_count": 26,
   "id": "e910102f",
   "metadata": {
    "pycharm": {
     "name": "#%%\n"
    }
   },
   "outputs": [
    {
     "data": {
      "image/png": "[encoded data removed]",
      "text/plain": [
       "<Figure size 720x576 with 1 Axes>"
      ]
     },
     "metadata": {
      "needs_background": "light"
     },
     "output_type": "display_data"
    }
   ],
   "source": [
    "plot_index_vs_bias(\"test_5\")"
   ]
  },
  {
   "cell_type": "code",
   "execution_count": 27,
   "id": "81646213",
   "metadata": {
    "pycharm": {
     "name": "#%%\n"
    }
   },
   "outputs": [
    {
     "data": {
      "image/png": "[encoded data removed]",
      "text/plain": [
       "<Figure size 720x576 with 1 Axes>"
      ]
     },
     "metadata": {
      "needs_background": "light"
     },
     "output_type": "display_data"
    }
   ],
   "source": [
    "plot_index_vs_bias(\"test_6\")"
   ]
  },
  {
   "cell_type": "code",
   "execution_count": 28,
   "id": "6d2629a1",
   "metadata": {
    "pycharm": {
     "name": "#%%\n"
    }
   },
   "outputs": [],
   "source": [
    "# selecting data to train biased WORD2VEC"
   ]
  },
  {
   "cell_type": "code",
   "execution_count": 29,
   "id": "d6ac7c71",
   "metadata": {
    "pycharm": {
     "name": "#%%\n"
    }
   },
   "outputs": [],
   "source": [
    "# pkl.dump(df.sort_values('test_3', ascending=False).head(int(.25 * df.shape[0])).index.to_list(), open(\"dataset.pkl\", \"wb\"))"
   ]
  },
  {
   "cell_type": "code",
   "execution_count": 30,
   "id": "d89dd438",
   "metadata": {},
   "outputs": [
    {
     "data": {
      "image/png": "[encoded data removed]",
      "text/plain": [
       "<Figure size 720x576 with 1 Axes>"
      ]
     },
     "metadata": {
      "needs_background": "light"
     },
     "output_type": "display_data"
    }
   ],
   "source": [
    "plot_index_vs_bias(\"test_3\")"
   ]
  },
  {
   "cell_type": "code",
   "execution_count": 31,
   "id": "140bace4",
   "metadata": {},
   "outputs": [
    {
     "data": {
      "text/html": [
       "<div>\n",
       "<style scoped>\n",
       "    .dataframe tbody tr th:only-of-type {\n",
       "        vertical-align: middle;\n",
       "    }\n",
       "\n",
       "    .dataframe tbody tr th {\n",
       "        vertical-align: top;\n",
       "    }\n",
       "\n",
       "    .dataframe thead th {\n",
       "        text-align: right;\n",
       "    }\n",
       "</style>\n",
       "<table border=\"1\" class=\"dataframe\">\n",
       "  <thead>\n",
       "    <tr style=\"text-align: right;\">\n",
       "      <th></th>\n",
       "      <th>test_0</th>\n",
       "      <th>test_1</th>\n",
       "      <th>test_2</th>\n",
       "      <th>test_3</th>\n",
       "      <th>test_4</th>\n",
       "      <th>test_5</th>\n",
       "      <th>test_6</th>\n",
       "      <th>scores_mean</th>\n",
       "      <th>len</th>\n",
       "    </tr>\n",
       "  </thead>\n",
       "  <tbody>\n",
       "    <tr>\n",
       "      <th>60970</th>\n",
       "      <td>9.111152e-10</td>\n",
       "      <td>3.369125e-09</td>\n",
       "      <td>1.838562e-09</td>\n",
       "      <td>1.197977e-09</td>\n",
       "      <td>2.258846e-09</td>\n",
       "      <td>1.408506e-09</td>\n",
       "      <td>0.000000e+00</td>\n",
       "      <td>1.046842e-08</td>\n",
       "      <td>53</td>\n",
       "    </tr>\n",
       "    <tr>\n",
       "      <th>19657</th>\n",
       "      <td>1.674974e-08</td>\n",
       "      <td>4.099453e-08</td>\n",
       "      <td>7.002208e-08</td>\n",
       "      <td>8.459078e-10</td>\n",
       "      <td>6.793444e-10</td>\n",
       "      <td>1.593374e-08</td>\n",
       "      <td>2.277047e-09</td>\n",
       "      <td>2.977254e-08</td>\n",
       "      <td>73</td>\n",
       "    </tr>\n",
       "    <tr>\n",
       "      <th>73653</th>\n",
       "      <td>3.094784e-10</td>\n",
       "      <td>9.714583e-09</td>\n",
       "      <td>8.537162e-10</td>\n",
       "      <td>8.168078e-10</td>\n",
       "      <td>5.966521e-10</td>\n",
       "      <td>9.023748e-11</td>\n",
       "      <td>1.066975e-10</td>\n",
       "      <td>1.146903e-08</td>\n",
       "      <td>84</td>\n",
       "    </tr>\n",
       "    <tr>\n",
       "      <th>29370</th>\n",
       "      <td>4.534299e-08</td>\n",
       "      <td>0.000000e+00</td>\n",
       "      <td>0.000000e+00</td>\n",
       "      <td>7.934517e-10</td>\n",
       "      <td>5.551115e-17</td>\n",
       "      <td>0.000000e+00</td>\n",
       "      <td>0.000000e+00</td>\n",
       "      <td>1.531889e-08</td>\n",
       "      <td>78</td>\n",
       "    </tr>\n",
       "    <tr>\n",
       "      <th>71132</th>\n",
       "      <td>0.000000e+00</td>\n",
       "      <td>0.000000e+00</td>\n",
       "      <td>0.000000e+00</td>\n",
       "      <td>7.776072e-10</td>\n",
       "      <td>2.598474e-10</td>\n",
       "      <td>0.000000e+00</td>\n",
       "      <td>5.849558e-10</td>\n",
       "      <td>7.341324e-09</td>\n",
       "      <td>65</td>\n",
       "    </tr>\n",
       "    <tr>\n",
       "      <th>...</th>\n",
       "      <td>...</td>\n",
       "      <td>...</td>\n",
       "      <td>...</td>\n",
       "      <td>...</td>\n",
       "      <td>...</td>\n",
       "      <td>...</td>\n",
       "      <td>...</td>\n",
       "      <td>...</td>\n",
       "      <td>...</td>\n",
       "    </tr>\n",
       "    <tr>\n",
       "      <th>18947</th>\n",
       "      <td>0.000000e+00</td>\n",
       "      <td>0.000000e+00</td>\n",
       "      <td>0.000000e+00</td>\n",
       "      <td>7.128238e-20</td>\n",
       "      <td>5.551115e-17</td>\n",
       "      <td>3.235635e-08</td>\n",
       "      <td>0.000000e+00</td>\n",
       "      <td>4.622336e-09</td>\n",
       "      <td>6230</td>\n",
       "    </tr>\n",
       "    <tr>\n",
       "      <th>19380</th>\n",
       "      <td>0.000000e+00</td>\n",
       "      <td>0.000000e+00</td>\n",
       "      <td>0.000000e+00</td>\n",
       "      <td>7.026728e-20</td>\n",
       "      <td>5.551115e-17</td>\n",
       "      <td>9.391191e-09</td>\n",
       "      <td>0.000000e+00</td>\n",
       "      <td>1.341599e-09</td>\n",
       "      <td>6320</td>\n",
       "    </tr>\n",
       "    <tr>\n",
       "      <th>56505</th>\n",
       "      <td>1.311728e-08</td>\n",
       "      <td>4.795579e-08</td>\n",
       "      <td>4.758018e-07</td>\n",
       "      <td>6.637113e-20</td>\n",
       "      <td>3.387705e-08</td>\n",
       "      <td>7.165821e-08</td>\n",
       "      <td>2.618867e-08</td>\n",
       "      <td>9.551412e-08</td>\n",
       "      <td>6691</td>\n",
       "    </tr>\n",
       "    <tr>\n",
       "      <th>33565</th>\n",
       "      <td>9.664115e-08</td>\n",
       "      <td>3.932394e-10</td>\n",
       "      <td>0.000000e+00</td>\n",
       "      <td>6.605521e-20</td>\n",
       "      <td>5.551115e-17</td>\n",
       "      <td>0.000000e+00</td>\n",
       "      <td>0.000000e+00</td>\n",
       "      <td>1.386206e-08</td>\n",
       "      <td>6723</td>\n",
       "    </tr>\n",
       "    <tr>\n",
       "      <th>85538</th>\n",
       "      <td>0.000000e+00</td>\n",
       "      <td>0.000000e+00</td>\n",
       "      <td>0.000000e+00</td>\n",
       "      <td>4.961891e-20</td>\n",
       "      <td>5.551115e-17</td>\n",
       "      <td>2.092741e-09</td>\n",
       "      <td>0.000000e+00</td>\n",
       "      <td>2.989630e-10</td>\n",
       "      <td>8950</td>\n",
       "    </tr>\n",
       "  </tbody>\n",
       "</table>\n",
       "<p>85577 rows × 9 columns</p>\n",
       "</div>"
      ],
      "text/plain": [
       "             test_0        test_1        test_2        test_3        test_4  \\\n",
       "60970  9.111152e-10  3.369125e-09  1.838562e-09  1.197977e-09  2.258846e-09   \n",
       "19657  1.674974e-08  4.099453e-08  7.002208e-08  8.459078e-10  6.793444e-10   \n",
       "73653  3.094784e-10  9.714583e-09  8.537162e-10  8.168078e-10  5.966521e-10   \n",
       "29370  4.534299e-08  0.000000e+00  0.000000e+00  7.934517e-10  5.551115e-17   \n",
       "71132  0.000000e+00  0.000000e+00  0.000000e+00  7.776072e-10  2.598474e-10   \n",
       "...             ...           ...           ...           ...           ...   \n",
       "18947  0.000000e+00  0.000000e+00  0.000000e+00  7.128238e-20  5.551115e-17   \n",
       "19380  0.000000e+00  0.000000e+00  0.000000e+00  7.026728e-20  5.551115e-17   \n",
       "56505  1.311728e-08  4.795579e-08  4.758018e-07  6.637113e-20  3.387705e-08   \n",
       "33565  9.664115e-08  3.932394e-10  0.000000e+00  6.605521e-20  5.551115e-17   \n",
       "85538  0.000000e+00  0.000000e+00  0.000000e+00  4.961891e-20  5.551115e-17   \n",
       "\n",
       "             test_5        test_6   scores_mean   len  \n",
       "60970  1.408506e-09  0.000000e+00  1.046842e-08    53  \n",
       "19657  1.593374e-08  2.277047e-09  2.977254e-08    73  \n",
       "73653  9.023748e-11  1.066975e-10  1.146903e-08    84  \n",
       "29370  0.000000e+00  0.000000e+00  1.531889e-08    78  \n",
       "71132  0.000000e+00  5.849558e-10  7.341324e-09    65  \n",
       "...             ...           ...           ...   ...  \n",
       "18947  3.235635e-08  0.000000e+00  4.622336e-09  6230  \n",
       "19380  9.391191e-09  0.000000e+00  1.341599e-09  6320  \n",
       "56505  7.165821e-08  2.618867e-08  9.551412e-08  6691  \n",
       "33565  0.000000e+00  0.000000e+00  1.386206e-08  6723  \n",
       "85538  2.092741e-09  0.000000e+00  2.989630e-10  8950  \n",
       "\n",
       "[85577 rows x 9 columns]"
      ]
     },
     "execution_count": 31,
     "metadata": {},
     "output_type": "execute_result"
    }
   ],
   "source": [
    "df.sort_values('test_3', ascending=False)"
   ]
  },
  {
   "cell_type": "code",
   "execution_count": 32,
   "id": "e55e050f",
   "metadata": {
    "scrolled": true
   },
   "outputs": [
    {
     "data": {
      "text/plain": [
       "'the dixie cups is an american girl group they perform rhythm and blues mixed with pop music the group formed in in new orleans chapel of love is their best known song the group members are barbara ann hawkins joan johnson and rosa lee hawkins there have been other members in the past'"
      ]
     },
     "execution_count": 32,
     "metadata": {},
     "output_type": "execute_result"
    }
   ],
   "source": [
    "\" \".join(ds.lines[60970])"
   ]
  },
  {
   "cell_type": "code",
   "execution_count": null,
   "id": "9d17a3a7",
   "metadata": {},
   "outputs": [],
   "source": []
  }
 ],
 "metadata": {
  "kernelspec": {
   "display_name": "Python 3 (ipykernel)",
   "language": "python",
   "name": "python3"
  },
  "language_info": {
   "codemirror_mode": {
    "name": "ipython",
    "version": 3
   },
   "file_extension": ".py",
   "mimetype": "text/x-python",
   "name": "python",
   "nbconvert_exporter": "python",
   "pygments_lexer": "ipython3",
   "version": "3.7.13"
  }
 },
 "nbformat": 4,
 "nbformat_minor": 5
}
