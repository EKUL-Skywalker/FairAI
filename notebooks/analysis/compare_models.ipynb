{
 "cells": [
  {
   "cell_type": "code",
   "execution_count": 1,
   "id": "fff05fa1",
   "metadata": {},
   "outputs": [],
   "source": [
    "import sys\n",
    "sys.path.insert(0, \"../..\")\n"
   ]
  },
  {
   "cell_type": "code",
   "execution_count": 2,
   "id": "a7af621d",
   "metadata": {},
   "outputs": [],
   "source": [
    "from models.word2vec import Word2Vec\n",
    "from models.fast_glove import FastGlove\n",
    "from utils.weat import WEAT\n",
    "\n",
    "THREADS = 16\n",
    "WORDS_JSON = '../../weat/weat.json'"
   ]
  },
  {
   "cell_type": "code",
   "execution_count": 3,
   "id": "013ce25c",
   "metadata": {},
   "outputs": [],
   "source": [
    "model_original_data = Word2Vec(load=True, path='biased_word2vec_copy.bin')"
   ]
  },
  {
   "cell_type": "code",
   "execution_count": 4,
   "id": "bfaa3e0e",
   "metadata": {},
   "outputs": [],
   "source": [
    "model_biased_25_data = Word2Vec(load=True, path='../../biased_word2vec_100.bin')"
   ]
  },
  {
   "cell_type": "code",
   "execution_count": 5,
   "id": "c6c00168",
   "metadata": {},
   "outputs": [
    {
     "name": "stdout",
     "output_type": "stream",
     "text": [
      "There was an error loading the model. Trying to load kv file instead!\n",
      "There was an error loading the model. Trying to load kv file instead!\n"
     ]
    }
   ],
   "source": [
    "fairness_aware_model = Word2Vec(load=True, path='../../kv_path.out')"
   ]
  },
  {
   "cell_type": "code",
   "execution_count": 6,
   "id": "8ac38c59",
   "metadata": {},
   "outputs": [
    {
     "data": {
      "text/plain": [
       "(9, 100)"
      ]
     },
     "execution_count": 6,
     "metadata": {},
     "output_type": "execute_result"
    }
   ],
   "source": [
    "fairness_aware_model.transform(\"the quick brown fox jumped over the lazy dog\".split()).shape"
   ]
  },
  {
   "cell_type": "code",
   "execution_count": 7,
   "id": "11925ec3",
   "metadata": {},
   "outputs": [
    {
     "data": {
      "text/plain": [
       "[0.36986372,\n",
       " 0.93335587,\n",
       " 0.88617885,\n",
       " 1.9091392,\n",
       " 1.3854921,\n",
       " 1.3058485,\n",
       " 1.7034103]"
      ]
     },
     "execution_count": 7,
     "metadata": {},
     "output_type": "execute_result"
    }
   ],
   "source": [
    "WEAT(model_original_data, words_json=WORDS_JSON).get_scores()"
   ]
  },
  {
   "cell_type": "code",
   "execution_count": 8,
   "id": "3b3ce02a",
   "metadata": {},
   "outputs": [
    {
     "data": {
      "text/plain": [
       "[0.25110826, 0.936336, 0.45317128, 1.8953629, 0.63484985, 1.0673584, 0.801167]"
      ]
     },
     "execution_count": 8,
     "metadata": {},
     "output_type": "execute_result"
    }
   ],
   "source": [
    "WEAT(model_biased_25_data, words_json=WORDS_JSON).get_scores()"
   ]
  },
  {
   "cell_type": "code",
   "execution_count": 9,
   "id": "ad6de623",
   "metadata": {},
   "outputs": [
    {
     "data": {
      "text/plain": [
       "[-0.006846588,\n",
       " 0.14067751,\n",
       " 0.83522505,\n",
       " -1.1303241,\n",
       " 0.38554358,\n",
       " -0.1975688,\n",
       " 0.2582382]"
      ]
     },
     "execution_count": 9,
     "metadata": {},
     "output_type": "execute_result"
    }
   ],
   "source": [
    "WEAT(fairness_aware_model, words_json=WORDS_JSON).get_scores()"
   ]
  }
 ],
 "metadata": {
  "kernelspec": {
   "display_name": "Python 3 (ipykernel)",
   "language": "python",
   "name": "python3"
  },
  "language_info": {
   "codemirror_mode": {
    "name": "ipython",
    "version": 3
   },
   "file_extension": ".py",
   "mimetype": "text/x-python",
   "name": "python",
   "nbconvert_exporter": "python",
   "pygments_lexer": "ipython3",
   "version": "3.7.13"
  }
 },
 "nbformat": 4,
 "nbformat_minor": 5
}
