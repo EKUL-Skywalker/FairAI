{
 "cells": [
  {
   "cell_type": "code",
   "execution_count": 1,
   "id": "7321ae93",
   "metadata": {},
   "outputs": [],
   "source": [
    "import numpy as np\n",
    "import pandas as pd\n",
    "import regex as re\n",
    "from tqdm import tqdm, trange\n",
    "import swifter\n",
    "from ast import literal_eval\n",
    "import seaborn as sns\n",
    "THREADS = 12"
   ]
  },
  {
   "cell_type": "code",
   "execution_count": 2,
   "id": "82dd1db8",
   "metadata": {},
   "outputs": [],
   "source": [
    "df = pd.read_csv(\"cleaned_ny.csv\")"
   ]
  },
  {
   "cell_type": "code",
   "execution_count": 3,
   "id": "3ea4e248",
   "metadata": {},
   "outputs": [
    {
     "data": {
      "text/html": [
       "<div>\n",
       "<style scoped>\n",
       "    .dataframe tbody tr th:only-of-type {\n",
       "        vertical-align: middle;\n",
       "    }\n",
       "\n",
       "    .dataframe tbody tr th {\n",
       "        vertical-align: top;\n",
       "    }\n",
       "\n",
       "    .dataframe thead th {\n",
       "        text-align: right;\n",
       "    }\n",
       "</style>\n",
       "<table border=\"1\" class=\"dataframe\">\n",
       "  <thead>\n",
       "    <tr style=\"text-align: right;\">\n",
       "      <th></th>\n",
       "      <th>year</th>\n",
       "      <th>sentence</th>\n",
       "      <th>cleaned</th>\n",
       "    </tr>\n",
       "  </thead>\n",
       "  <tbody>\n",
       "    <tr>\n",
       "      <th>0</th>\n",
       "      <td>2018</td>\n",
       "      <td>As lawmakers threw up obstacles to a two-state...</td>\n",
       "      <td>['as', 'lawmakers', 'threw', 'up', 'obstacles'...</td>\n",
       "    </tr>\n",
       "    <tr>\n",
       "      <th>1</th>\n",
       "      <td>2018</td>\n",
       "      <td>The rallies are the biggest in years, and are ...</td>\n",
       "      <td>['the', 'rallies', 'are', 'the', 'biggest', 'i...</td>\n",
       "    </tr>\n",
       "    <tr>\n",
       "      <th>2</th>\n",
       "      <td>2018</td>\n",
       "      <td>Lean people were especially responsive to exer...</td>\n",
       "      <td>['lean', 'people', 'were', 'especially', 'resp...</td>\n",
       "    </tr>\n",
       "    <tr>\n",
       "      <th>3</th>\n",
       "      <td>2018</td>\n",
       "      <td>Call it opera, rock concert or song cycle: an ...</td>\n",
       "      <td>['call', 'it', 'opera', 'rock', 'concert', 'or...</td>\n",
       "    </tr>\n",
       "    <tr>\n",
       "      <th>4</th>\n",
       "      <td>2018</td>\n",
       "      <td>Birds that cannot effectively withstand cold s...</td>\n",
       "      <td>['birds', 'that', 'cannot', 'effectively', 'wi...</td>\n",
       "    </tr>\n",
       "    <tr>\n",
       "      <th>...</th>\n",
       "      <td>...</td>\n",
       "      <td>...</td>\n",
       "      <td>...</td>\n",
       "    </tr>\n",
       "    <tr>\n",
       "      <th>200578</th>\n",
       "      <td>2020</td>\n",
       "      <td>During his rally in Newtown, Pa., on Saturday,...</td>\n",
       "      <td>['during', 'his', 'rally', 'in', 'newtown', 'p...</td>\n",
       "    </tr>\n",
       "    <tr>\n",
       "      <th>200579</th>\n",
       "      <td>2020</td>\n",
       "      <td>A magnitude-7.0 quake that struck in the Aegea...</td>\n",
       "      <td>['a', 'magnitude7', '0', 'quake', 'that', 'str...</td>\n",
       "    </tr>\n",
       "    <tr>\n",
       "      <th>200580</th>\n",
       "      <td>2020</td>\n",
       "      <td>Former President Barack Obama on Saturday join...</td>\n",
       "      <td>['former', 'president', 'barack', 'obama', 'on...</td>\n",
       "    </tr>\n",
       "    <tr>\n",
       "      <th>200581</th>\n",
       "      <td>2020</td>\n",
       "      <td>Prime Minister Boris Johnson announced expansi...</td>\n",
       "      <td>['prime', 'minister', 'boris', 'johnson', 'ann...</td>\n",
       "    </tr>\n",
       "    <tr>\n",
       "      <th>200582</th>\n",
       "      <td>2020</td>\n",
       "      <td>“Mr. Trump presented himself as a class traito...</td>\n",
       "      <td>['mr', 'trump', 'presented', 'himself', 'as', ...</td>\n",
       "    </tr>\n",
       "  </tbody>\n",
       "</table>\n",
       "<p>200583 rows × 3 columns</p>\n",
       "</div>"
      ],
      "text/plain": [
       "        year                                           sentence  \\\n",
       "0       2018  As lawmakers threw up obstacles to a two-state...   \n",
       "1       2018  The rallies are the biggest in years, and are ...   \n",
       "2       2018  Lean people were especially responsive to exer...   \n",
       "3       2018  Call it opera, rock concert or song cycle: an ...   \n",
       "4       2018  Birds that cannot effectively withstand cold s...   \n",
       "...      ...                                                ...   \n",
       "200578  2020  During his rally in Newtown, Pa., on Saturday,...   \n",
       "200579  2020  A magnitude-7.0 quake that struck in the Aegea...   \n",
       "200580  2020  Former President Barack Obama on Saturday join...   \n",
       "200581  2020  Prime Minister Boris Johnson announced expansi...   \n",
       "200582  2020  “Mr. Trump presented himself as a class traito...   \n",
       "\n",
       "                                                  cleaned  \n",
       "0       ['as', 'lawmakers', 'threw', 'up', 'obstacles'...  \n",
       "1       ['the', 'rallies', 'are', 'the', 'biggest', 'i...  \n",
       "2       ['lean', 'people', 'were', 'especially', 'resp...  \n",
       "3       ['call', 'it', 'opera', 'rock', 'concert', 'or...  \n",
       "4       ['birds', 'that', 'cannot', 'effectively', 'wi...  \n",
       "...                                                   ...  \n",
       "200578  ['during', 'his', 'rally', 'in', 'newtown', 'p...  \n",
       "200579  ['a', 'magnitude7', '0', 'quake', 'that', 'str...  \n",
       "200580  ['former', 'president', 'barack', 'obama', 'on...  \n",
       "200581  ['prime', 'minister', 'boris', 'johnson', 'ann...  \n",
       "200582  ['mr', 'trump', 'presented', 'himself', 'as', ...  \n",
       "\n",
       "[200583 rows x 3 columns]"
      ]
     },
     "execution_count": 3,
     "metadata": {},
     "output_type": "execute_result"
    }
   ],
   "source": [
    "df"
   ]
  },
  {
   "cell_type": "code",
   "execution_count": 10,
   "id": "4935bdcf",
   "metadata": {},
   "outputs": [],
   "source": [
    "df['len'] = df.cleaned.apply(literal_eval).apply(len)"
   ]
  },
  {
   "cell_type": "code",
   "execution_count": 13,
   "id": "1da50166",
   "metadata": {},
   "outputs": [
    {
     "data": {
      "text/html": [
       "<div>\n",
       "<style scoped>\n",
       "    .dataframe tbody tr th:only-of-type {\n",
       "        vertical-align: middle;\n",
       "    }\n",
       "\n",
       "    .dataframe tbody tr th {\n",
       "        vertical-align: top;\n",
       "    }\n",
       "\n",
       "    .dataframe thead th {\n",
       "        text-align: right;\n",
       "    }\n",
       "</style>\n",
       "<table border=\"1\" class=\"dataframe\">\n",
       "  <thead>\n",
       "    <tr style=\"text-align: right;\">\n",
       "      <th></th>\n",
       "      <th>year</th>\n",
       "      <th>sentence</th>\n",
       "      <th>cleaned</th>\n",
       "      <th>len</th>\n",
       "    </tr>\n",
       "  </thead>\n",
       "  <tbody>\n",
       "    <tr>\n",
       "      <th>5278</th>\n",
       "      <td>2018</td>\n",
       "      <td>뉴욕타임스는 한국인들이 남북한의 ’올림픽 협력’에 대해 어떻게 생각하는지 듣고 싶습...</td>\n",
       "      <td>[]</td>\n",
       "      <td>0</td>\n",
       "    </tr>\n",
       "    <tr>\n",
       "      <th>5809</th>\n",
       "      <td>2018</td>\n",
       "      <td>뉴욕타임스는 한국인들이 남북한의 ’올림픽 협력’에 대해 어떻게 생각하는지 듣고 싶습...</td>\n",
       "      <td>[]</td>\n",
       "      <td>0</td>\n",
       "    </tr>\n",
       "  </tbody>\n",
       "</table>\n",
       "</div>"
      ],
      "text/plain": [
       "      year                                           sentence cleaned  len\n",
       "5278  2018  뉴욕타임스는 한국인들이 남북한의 ’올림픽 협력’에 대해 어떻게 생각하는지 듣고 싶습...      []    0\n",
       "5809  2018  뉴욕타임스는 한국인들이 남북한의 ’올림픽 협력’에 대해 어떻게 생각하는지 듣고 싶습...      []    0"
      ]
     },
     "execution_count": 13,
     "metadata": {},
     "output_type": "execute_result"
    }
   ],
   "source": [
    "df[df.len == df.len.min()]"
   ]
  },
  {
   "cell_type": "code",
   "execution_count": 11,
   "id": "e7d4a27c",
   "metadata": {},
   "outputs": [
    {
     "data": {
      "text/plain": [
       "<AxesSubplot:ylabel='Density'>"
      ]
     },
     "execution_count": 11,
     "metadata": {},
     "output_type": "execute_result"
    },
    {
     "data": {
      "image/png": "[encoded data removed]",
      "text/plain": [
       "<Figure size 432x288 with 1 Axes>"
      ]
     },
     "metadata": {
      "needs_background": "light"
     },
     "output_type": "display_data"
    }
   ],
   "source": [
    "df.len.plot(kind=\"density\")"
   ]
  },
  {
   "cell_type": "code",
   "execution_count": 12,
   "id": "5933a0aa",
   "metadata": {},
   "outputs": [
    {
     "data": {
      "text/plain": [
       "count    200583.000000\n",
       "mean         29.704551\n",
       "std           8.892276\n",
       "min           0.000000\n",
       "25%          24.000000\n",
       "50%          31.000000\n",
       "75%          36.000000\n",
       "max         228.000000\n",
       "Name: len, dtype: float64"
      ]
     },
     "execution_count": 12,
     "metadata": {},
     "output_type": "execute_result"
    }
   ],
   "source": [
    "df.len.describe()"
   ]
  },
  {
   "cell_type": "code",
   "execution_count": 16,
   "id": "7fffbafe",
   "metadata": {},
   "outputs": [
    {
     "name": "stderr",
     "output_type": "stream",
     "text": [
      "100%|████████████████████████████████████████████████████████████████████████████████████| 200583/200583 [00:04<00:00, 49673.91it/s]\n"
     ]
    }
   ],
   "source": [
    "words2cnt = {}\n",
    "for sent in tqdm(df.cleaned.tolist()):\n",
    "    for word in sent:\n",
    "        if word not in words2cnt:\n",
    "            words2cnt[word] = 0\n",
    "        words2cnt[word] += 1"
   ]
  },
  {
   "cell_type": "code",
   "execution_count": 17,
   "id": "60bfaa3e",
   "metadata": {},
   "outputs": [
    {
     "data": {
      "text/plain": [
       "<AxesSubplot:ylabel='Density'>"
      ]
     },
     "execution_count": 17,
     "metadata": {},
     "output_type": "execute_result"
    },
    {
     "data": {
      "image/png": "[encoded data removed]",
      "text/plain": [
       "<Figure size 432x288 with 1 Axes>"
      ]
     },
     "metadata": {
      "needs_background": "light"
     },
     "output_type": "display_data"
    }
   ],
   "source": [
    "sns.distplot(list(words2cnt.values()))"
   ]
  },
  {
   "cell_type": "code",
   "execution_count": 18,
   "id": "47fcb5c8",
   "metadata": {},
   "outputs": [
    {
     "data": {
      "text/plain": [
       "count    4.100000e+01\n",
       "mean     1.296060e+06\n",
       "std      2.203247e+06\n",
       "min      8.536000e+03\n",
       "25%      4.080400e+04\n",
       "50%      5.354250e+05\n",
       "75%      1.976934e+06\n",
       "max      1.191646e+07\n",
       "dtype: float64"
      ]
     },
     "execution_count": 18,
     "metadata": {},
     "output_type": "execute_result"
    }
   ],
   "source": [
    "pd.Series(list(words2cnt.values())).describe()"
   ]
  },
  {
   "cell_type": "code",
   "execution_count": null,
   "id": "2277f01c",
   "metadata": {},
   "outputs": [],
   "source": [
    "# df.to_csv(\"jigsaw_cleaned.csv\", index=False)"
   ]
  }
 ],
 "metadata": {
  "kernelspec": {
   "display_name": "Python 3 (ipykernel)",
   "language": "python",
   "name": "python3"
  },
  "language_info": {
   "codemirror_mode": {
    "name": "ipython",
    "version": 3
   },
   "file_extension": ".py",
   "mimetype": "text/x-python",
   "name": "python",
   "nbconvert_exporter": "python",
   "pygments_lexer": "ipython3",
   "version": "3.7.13"
  }
 },
 "nbformat": 4,
 "nbformat_minor": 5
}
