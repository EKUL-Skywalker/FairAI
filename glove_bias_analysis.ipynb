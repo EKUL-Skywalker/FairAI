{
 "cells": [
  {
   "cell_type": "code",
   "execution_count": 1,
   "id": "8ba2915c",
   "metadata": {
    "pycharm": {
     "name": "#%%\n"
    }
   },
   "outputs": [],
   "source": [
    "import numpy as np\n",
    "import pandas as pd\n",
    "import matplotlib\n",
    "import matplotlib.pyplot as plt\n",
    "import seaborn as sns\n",
    "import warnings\n",
    "\n",
    "matplotlib.rcParams['figure.figsize'] = (10, 8)\n",
    "warnings.filterwarnings('ignore')"
   ]
  },
  {
   "cell_type": "code",
   "execution_count": 2,
   "id": "6391d6a6",
   "metadata": {
    "pycharm": {
     "name": "#%%\n"
    }
   },
   "outputs": [
    {
     "name": "stdout",
     "output_type": "stream",
     "text": [
      "85577 7\n"
     ]
    }
   ],
   "source": [
    "scores = np.load('/tmp/scores_100.npy')\n",
    "# 85577 docs and 7 weat tests\n",
    "NUM_DOCS, NUM_TESTS = scores.shape\n",
    "print(NUM_DOCS, NUM_TESTS)"
   ]
  },
  {
   "cell_type": "code",
   "execution_count": 3,
   "id": "db45e327",
   "metadata": {
    "pycharm": {
     "name": "#%%\n"
    }
   },
   "outputs": [
    {
     "data": {
      "text/plain": [
       "array([[ 0.70791888,  0.53616065, -0.21749191, ...,  0.38834177,\n",
       "         0.37772273,  0.57135152],\n",
       "       [ 0.70791887,  0.53616079, -0.2174933 , ...,  0.38834176,\n",
       "         0.37772276,  0.57135152],\n",
       "       [ 0.70791885,  0.53616074, -0.21749323, ...,  0.38834172,\n",
       "         0.37772267,  0.5713514 ],\n",
       "       ...,\n",
       "       [ 0.70791885,  0.53616071, -0.21749322, ...,  0.38834176,\n",
       "         0.3777227 ,  0.57135151],\n",
       "       [ 0.70791885,  0.53616071, -0.21749322, ...,  0.38834176,\n",
       "         0.3777227 ,  0.57135151],\n",
       "       [ 0.70791885,  0.53616071, -0.21749322, ...,  0.38834176,\n",
       "         0.3777227 ,  0.57135151]])"
      ]
     },
     "execution_count": 3,
     "metadata": {},
     "output_type": "execute_result"
    }
   ],
   "source": [
    "scores"
   ]
  },
  {
   "cell_type": "markdown",
   "id": "fb526321",
   "metadata": {
    "pycharm": {
     "name": "#%%\n"
    }
   },
   "source": [
    "# calculate differential bias for each document\n",
    "\n",
    "$\\Delta_{doc} B \\approx B_{weat}(w^*) - B_{weat}(\\tilde{w})$"
   ]
  },
  {
   "cell_type": "code",
   "execution_count": 4,
   "id": "3827faf4",
   "metadata": {
    "pycharm": {
     "name": "#%%\n"
    }
   },
   "outputs": [],
   "source": [
    "from models.fast_glove import FastGlove\n",
    "from utils.weat import WEAT\n",
    "from utils.dataset import Dataset"
   ]
  },
  {
   "cell_type": "code",
   "execution_count": 5,
   "id": "09227271",
   "metadata": {
    "pycharm": {
     "name": "#%%\n"
    }
   },
   "outputs": [],
   "source": [
    "model = FastGlove()\n",
    "scorer = WEAT(model, model.M.W)\n",
    "ds = Dataset(\"../simplewiki-20171103-pages-articles-multistream.xml.bz2\")"
   ]
  },
  {
   "cell_type": "code",
   "execution_count": 6,
   "id": "e145d135",
   "metadata": {
    "pycharm": {
     "name": "#%%\n"
    }
   },
   "outputs": [],
   "source": [
    "b_weat_star = np.array(scorer.get_scores())"
   ]
  },
  {
   "cell_type": "code",
   "execution_count": 7,
   "id": "a10642fb",
   "metadata": {
    "pycharm": {
     "name": "#%%\n"
    }
   },
   "outputs": [
    {
     "data": {
      "text/html": [
       "<div>\n",
       "<style scoped>\n",
       "    .dataframe tbody tr th:only-of-type {\n",
       "        vertical-align: middle;\n",
       "    }\n",
       "\n",
       "    .dataframe tbody tr th {\n",
       "        vertical-align: top;\n",
       "    }\n",
       "\n",
       "    .dataframe thead th {\n",
       "        text-align: right;\n",
       "    }\n",
       "</style>\n",
       "<table border=\"1\" class=\"dataframe\">\n",
       "  <thead>\n",
       "    <tr style=\"text-align: right;\">\n",
       "      <th></th>\n",
       "      <th>test_0</th>\n",
       "      <th>test_1</th>\n",
       "      <th>test_2</th>\n",
       "      <th>test_3</th>\n",
       "      <th>test_4</th>\n",
       "      <th>test_5</th>\n",
       "      <th>test_6</th>\n",
       "    </tr>\n",
       "  </thead>\n",
       "  <tbody>\n",
       "    <tr>\n",
       "      <th>0</th>\n",
       "      <td>2.557712e-08</td>\n",
       "      <td>6.235274e-08</td>\n",
       "      <td>1.315591e-06</td>\n",
       "      <td>6.311380e-10</td>\n",
       "      <td>7.161867e-09</td>\n",
       "      <td>3.034066e-08</td>\n",
       "      <td>8.739641e-09</td>\n",
       "    </tr>\n",
       "    <tr>\n",
       "      <th>1</th>\n",
       "      <td>1.733142e-08</td>\n",
       "      <td>7.336544e-08</td>\n",
       "      <td>8.125042e-08</td>\n",
       "      <td>4.103502e-10</td>\n",
       "      <td>3.867812e-09</td>\n",
       "      <td>5.717173e-08</td>\n",
       "      <td>6.272856e-09</td>\n",
       "    </tr>\n",
       "    <tr>\n",
       "      <th>2</th>\n",
       "      <td>5.168573e-09</td>\n",
       "      <td>2.509856e-08</td>\n",
       "      <td>1.080302e-08</td>\n",
       "      <td>4.440892e-16</td>\n",
       "      <td>3.394646e-08</td>\n",
       "      <td>2.577859e-08</td>\n",
       "      <td>1.101318e-07</td>\n",
       "    </tr>\n",
       "    <tr>\n",
       "      <th>3</th>\n",
       "      <td>0.000000e+00</td>\n",
       "      <td>0.000000e+00</td>\n",
       "      <td>0.000000e+00</td>\n",
       "      <td>4.440892e-16</td>\n",
       "      <td>1.797602e-08</td>\n",
       "      <td>0.000000e+00</td>\n",
       "      <td>5.712599e-09</td>\n",
       "    </tr>\n",
       "    <tr>\n",
       "      <th>4</th>\n",
       "      <td>0.000000e+00</td>\n",
       "      <td>0.000000e+00</td>\n",
       "      <td>6.529529e-09</td>\n",
       "      <td>4.440892e-16</td>\n",
       "      <td>5.551115e-17</td>\n",
       "      <td>0.000000e+00</td>\n",
       "      <td>0.000000e+00</td>\n",
       "    </tr>\n",
       "  </tbody>\n",
       "</table>\n",
       "</div>"
      ],
      "text/plain": [
       "         test_0        test_1        test_2        test_3        test_4  \\\n",
       "0  2.557712e-08  6.235274e-08  1.315591e-06  6.311380e-10  7.161867e-09   \n",
       "1  1.733142e-08  7.336544e-08  8.125042e-08  4.103502e-10  3.867812e-09   \n",
       "2  5.168573e-09  2.509856e-08  1.080302e-08  4.440892e-16  3.394646e-08   \n",
       "3  0.000000e+00  0.000000e+00  0.000000e+00  4.440892e-16  1.797602e-08   \n",
       "4  0.000000e+00  0.000000e+00  6.529529e-09  4.440892e-16  5.551115e-17   \n",
       "\n",
       "         test_5        test_6  \n",
       "0  3.034066e-08  8.739641e-09  \n",
       "1  5.717173e-08  6.272856e-09  \n",
       "2  2.577859e-08  1.101318e-07  \n",
       "3  0.000000e+00  5.712599e-09  \n",
       "4  0.000000e+00  0.000000e+00  "
      ]
     },
     "execution_count": 7,
     "metadata": {},
     "output_type": "execute_result"
    }
   ],
   "source": [
    "# this dataframe has weat scores for documents\n",
    "df = pd.DataFrame(np.abs(scores - b_weat_star), columns=[\"test_{}\".format(i) for i in range(NUM_TESTS)])\n",
    "df.head()"
   ]
  },
  {
   "cell_type": "code",
   "execution_count": 8,
   "id": "5691601f",
   "metadata": {
    "pycharm": {
     "name": "#%%\n"
    }
   },
   "outputs": [],
   "source": [
    "# sample mean score\n",
    "df['scores_mean'] = df.mean(axis=1)\n",
    "# length of document\n",
    "df['len'] = df.index.map(lambda x: len(ds.lines[x]))"
   ]
  },
  {
   "cell_type": "code",
   "execution_count": 9,
   "id": "f23a296e",
   "metadata": {
    "pycharm": {
     "name": "#%%\n"
    }
   },
   "outputs": [],
   "source": [
    "def get_docs_sorted_on_column(dframe, col, n=2):\n",
    "    \"\"\"\n",
    "    col: test name\n",
    "    n: number of docs to return\n",
    "    \"\"\"\n",
    "    dframe[col].plot(kind=\"density\", title=col)\n",
    "    series = dframe.sort_values(col, ascending=False).head(n)\n",
    "    return [ds.lines[i] for i in series.index]"
   ]
  },
  {
   "cell_type": "code",
   "execution_count": 10,
   "id": "1cef6ebb",
   "metadata": {
    "pycharm": {
     "name": "#%%\n"
    }
   },
   "outputs": [],
   "source": [
    "# #most biased on mean score\n",
    "col = 'scores_mean'\n",
    "docs = df.sort_values('scores_mean', ascending=False).head(10)[col]"
   ]
  },
  {
   "cell_type": "code",
   "execution_count": 11,
   "id": "54838062",
   "metadata": {
    "pycharm": {
     "name": "#%%\n"
    }
   },
   "outputs": [
    {
     "data": {
      "text/plain": [
       "68848    0.351254\n",
       "82886    0.104275\n",
       "54065    0.000976\n",
       "11498    0.000233\n",
       "32598    0.000068\n",
       "67779    0.000027\n",
       "63677    0.000017\n",
       "25071    0.000015\n",
       "15040    0.000013\n",
       "73615    0.000008\n",
       "Name: scores_mean, dtype: float64"
      ]
     },
     "execution_count": 11,
     "metadata": {},
     "output_type": "execute_result"
    }
   ],
   "source": [
    "docs"
   ]
  },
  {
   "cell_type": "markdown",
   "id": "eafff4f1",
   "metadata": {
    "pycharm": {
     "name": "#%% md\n"
    }
   },
   "source": [
    "# top most biased document for each test"
   ]
  },
  {
   "cell_type": "code",
   "execution_count": 12,
   "id": "73273a23",
   "metadata": {
    "pycharm": {
     "name": "#%%\n"
    }
   },
   "outputs": [],
   "source": [
    "# \" \".join(get_docs_sorted_on_column(df, \"scores_mean\", n = 1)[0])"
   ]
  },
  {
   "cell_type": "code",
   "execution_count": 13,
   "id": "f7194105",
   "metadata": {
    "pycharm": {
     "name": "#%%\n"
    }
   },
   "outputs": [],
   "source": [
    "# \" \".join(get_docs_sorted_on_column(df, \"test_0\", n = 1)[0])"
   ]
  },
  {
   "cell_type": "code",
   "execution_count": 14,
   "id": "63d2b635",
   "metadata": {
    "pycharm": {
     "name": "#%%\n"
    }
   },
   "outputs": [],
   "source": [
    "# \" \".join(get_docs_sorted_on_column(df, \"test_1\", n = 1)[0])"
   ]
  },
  {
   "cell_type": "code",
   "execution_count": 15,
   "id": "76087afd",
   "metadata": {
    "pycharm": {
     "name": "#%%\n"
    }
   },
   "outputs": [],
   "source": [
    "# \" \".join(get_docs_sorted_on_column(df, \"test_2\", n = 1)[0])"
   ]
  },
  {
   "cell_type": "code",
   "execution_count": 17,
   "id": "a0a5480c",
   "metadata": {
    "pycharm": {
     "name": "#%%\n"
    }
   },
   "outputs": [
    {
     "data": {
      "text/plain": [
       "'don giovanni is an italian opera in two acts it is about the character better known as don juan the music was written by wolfgang amadeus mozart the libretto was written by lorenzo da ponte the opera was first performed at the national theatre in prague on october it was great success don giovanni is about libertine and murderer who refuses to repent when given the chance he is taken alive to hell the story was originally folktale plays operas and even ballet were produced on the theme by the time mozart and da ponte started work on their opera don giovanni was performed across europe after its success in prague it was performed in the united states in staged by da ponte himself in joseph losey made movie of the opera in don giovanni was tenth on the operabase list of the most performed operas in the world principal characters don giovanni baritone donna anna soprano donna elvira soprano zerlina soprano don ottavio tenor leporello bass masetto bass commendatore bass story of the opera the overture opens with somber musical passage in minor this passage is also played when the statue of the commendatore calls for don giovanni to repent at the end of the opera quick bright section in major follows this slow passage it is not related to music in opera it is spirited vigorous and robust it quietly dies away as the curtain rises on the first act act scene the garden of the commendatore house in seville spain night don giovanni has failed to seduce donna anna her father defends her don giovanni kills him in duel he runs away with his servant leporello donna anna and her fiancé don ottavio find the dead commendatore they promise to bring the murderer to justice don giovanni and zerlina scene street in seville don giovanni wife donna elvira has just come to seville from burgos she is looking for don giovanni he married her and then left her he enters the street with leporello he sees elvira and leaves leporello stays behind he tells elvira about giovanni bad behavior with women scene the countryside near seville don giovanni takes an interest in peasant girl named zerlina he tries to seduce her elvira takes zerlina away with her anna and ottavio meet don giovanni he does not want to talk to them he hurries away they know he is the murderer they promise again to bring him to justice giovanni comes back when they leave he orders leporello to prepare party scene garden at don giovanni palace masetto and zerlina are going to the party masetto doubts zerlina loves him she tells him to beat her if that will make him feel better the two make up they go into the palace anna ottavio and elvira come into the garden their faces are covered with masks they promise to bring don giovanni to justice they go into the palace scene the ballroom in don giovanni palace the guests are having gay time don giovanni pulls zerlina into another room she screams don giovanni comes into the room he tells everyone that leporello attacked zerlina no one is fooled anna elvira and ottavio take off their masks ottavio has pistol don giovanni runs away act ii cemetery scene for prague scene evening on street in seville don giovanni wants to seduce elvira maid he changes clothes with leporello when elvira enters leporello is sent off with the lady she thinks he is don giovanni giovanni sings serenade masetto and his friends come in they are looking for don giovanni he beats masetto and runs off zerlina finds masetto and comforts him scene nearby street leporello wants to get rid of elvira she may discover he is not giovanni the two hear others coming into the street they hide behind wall anna ottavio zerlina and masetto open door in the wall and find leporello they want to punish him he runs away ottavio says he will go to the police scene this scene is cut in modern performances street zerlina threatens leporello with razor servant ties leporello to chair when leporello is left alone he escapes zerlina comes back with elvira and masetto they believe don giovanni must have helped leporello escape elvira is left alone she thinks of her love for don giovanni she is certain he will be punished don giovanni is taken to hell scene cemetery in seville don giovanni and leporello make jokes about elvira strange voice is heard it tells the two that justice is near the voice is coming from statue of the murdered commendatore giovanni orders leporello to invite the statue to dinner the two leave to get dinner ready scene room in donna anna house anna is feeling great sorrow over her father death ottavio says his love will comfort her she is shocked with this suggestion ottavio says she is cruel to him she asks him not to say such things she tells him that her sorrow is so deep that she can think only of her dead father scene room in don giovanni palace don giovanni is eating dinner elvira begs him to repent and change his way of life before it is too late he laughs at her and she leaves suddenly the statue comes into the room it orders giovanni to repent he refuses flames rise and demons scream the statue takes giovanni hand hell opens the two disappear in the flames anna ottavio elvira zerlina and massetto come into the room with the police they are looking for don giovanni leporello tells them that giovanni has met his end they are pleased and make plans for happier days background lorenzo da ponte don giovanni is based on character in european folklore this character is known as don juan in the first play about don juan was written in spanish by juan de la cueva other plays were also written the most famous don juan play was the playboy of seville and his stone guest by spanish monk named tirso de molina this play is the source of all the don juan stories and plays that were written after it da ponte even used some words from it when he was writing don giovanni traveling actors performed the don juan plays in france and italy the don juan character became well known there were french german and italian plays molière wrote dom juan in and thomas shadwell wrote an english play in carlo goldoni wrote an italian play in mozart and da ponte probably knew the goldoni play the first opera was french one written in it was comic opera gluck wrote ballet for vienna in vincenzo righini wrote an opera that was performed in vienna and prague in ten years before don giovanni there were other operas written about don juan the best known opera was one by giovanni bertati and giuseppe gazzaniga it was performed in venice in it was great success da ponte knew this opera he made use of bertati libretto when he wrote don giovanni mozart and da ponte villa bertramka in prague mozart and da ponte first met in vienna in at that time da ponte promised to write libretto for mozart three years later he adapted french play called the marriage of figaro to an opera libretto for mozart in three months mozart had completed the music the marriage of figaro had its first performance in vienna on may it was great success in january mozart went to prague for the first performance of figaro in that city the opera was wild success the manager of the opera house hired mozart to write an opera for prague in vienna mozart asked da ponte for libretto da ponte gave him don giovanni mozart started work on this new opera national theatre in prague mozart wrote most of don giovanni in the summer of in vienna early in october he went to prague he completed the opera in prague at the villa bertramka the home of friends the first performance of the opera was postponed the curtain rose on the world premiere of don giovanni at the national theatre in prague on october the opera was great success one critic wrote on monday the th the italian opera performed maestro mozart eagerly awaited don giovanni music lovers and musicians say that nothing to equal it has every been seen before in prague mozart himself conducted and he was given three cheers the opera is uncommonly difficult to perform the crowd of spectators bears witness to its general acclaim there are many legends about the making of don giovanni one legend says luigi bassi the year old singer playing don giovanni wanted more music to sing he was said to have forced mozart to rewrite duet five times another legend says mozart flirted with all three sopranos in the opera when one would reject his passes he would simply move on to the next another legend says mozart wife constanze kept her husband awake with funny stories the night before the first performance so he could complete the overture to the opera vienna performance poster for the vienna performance mozart left prague for vienna in november music lovers in vienna had heard good reports of don giovanni the emperor ordered the opera to be produced at the burgtheater mozart wrote some new music for the characters of elvira and ottavio he also wrote duet for zerlina and leporello don giovanni was first performed in vienna on may mozart sister in law aloysia lange sang donna anna legend says the performance in vienna ended with don giovanni going to hell the final scene for anna elvira zerlina ottavio masetto and leporello was probably cut mozart wrote some new music for the vienna performance he may have had to cut the last scene to keep the performance within certain length of time the opera was not as successful in vienna as it was in prague it was dropped at the burgtheater after fifteen performances other performances don giovanni was performed all over germany it was performed in poland in it was performed in german in amsterdam and st petersburg the opera was popular in france in both italian and french versions the first performance of don giovanni in italy was at bergamo in it was performed in rome the same year its first performance in england may have been an amateur performance in though it was presented in both english and italian lorenzo da ponte produced the first american performance of don giovanni in new york city in discography ezio pinza don giovanni rosa ponselle donna anna maria müller donna elvira edita fleischer zerlina tito schipa don ottavio virgilio lazzari leporello louis angelo masetto emanuel list commendatore the metropolitan opera orchestra and chorus tullio serafin andromeda live performance john brownlee don giovanni ina souez donna anna luise helletsgruber donna elvira audrey mildmay zerlina koloman von pataky don ottavio salvatore baccaloni leporello roy henderson masetto david franklin commendatore glyndebourne festival orchestra and chorus fritz busch emi classics ezio pinza don giovanni elisabeth rethberg donna anna luise helletsgruber donna elvira margit bokor zerlina dino borgioli don ottavio virgilio lazzari leporello karl ettl masetto herbert alsen commendatore chor der wiener staatsoper wiener philharmoniker bruno walter urania live performance ezio pinza don giovanni rose bampton donna anna jarmila novotná donna elvira bidu sayão zerlina charles kullman don ottavio alexander kipnis leporello mack harrell masetto norman cordon commendatore the metropolitan opera orchestra bruno walter andromeda live performance tito gobbi don giovanni ljuba welitsch donna anna elisabeth schwarzkopf donna elvira irmgard seefried zerlina anton dermota don ottavio erich kunz leporello alfred poell masetto josef greindl commendatore chor der wiener staatsoper wiener philharmoniker wilhelm furtwängler emi classics live performance cesare siepi don giovanni suzanne danco donna anna lisa della casa donna elvira hilde gueden zerlina anton dermota don ottavio fernando corena leporello walter berry masetto kurt böhme commendatore wiener staatsopernchor wiener philharmoniker josef krips decca dietrich fischer dieskau don giovanni sena jurinac donna anna maria stader donna elvira irmgard seefried zerlina ernst haefliger don ottavio karl christian kohn leporello ivan sardi masetto walter kreppel commendatore rias kammerchor radio symphonie orchester berlin ferenc fricsay deutsche grammophon eberhard wächter don giovanni joan sutherland donna anna elisabeth schwarzkopf donna elvira graziella sciutti zerlina luigi alva don giovanni giuseppe taddei leporello piero cappuccilli masetto gottlob frick commendatore philharmonia orchestra and chorus carlo maria giulini emi classics cesare siepi don giovanni birgit nilsson donna anna leontyne price donna elvira eugenia ratti zerlina cesare valletti don ottavio fernando corena leporello heinz blankenburg masetto arnold van mill commendatore wiener staatsopernchor wiener philharmoniker erich leinsdorf decca nicolai ghiaurov don giovanni claire watson donna anna christa ludwig donna elvira mirella freni zerlina nicolai gedda don ottavio walter berry leporello paolo montarsolo masetto franz crass commendatore new philharmonia orchestra chorus otto klemperer emi classics dietrich fischer dieskau don giovanni birgit nilsson donna anna martina arroyo donna elvira reri grist zerlina peter schreier don ottavio ezio flagello leporello alfredo mariotti masetto martti talvela commendatore tschechischer sängerchor prag orchester des prag karl böhm deutsche grammophon gabriel bacquier don giovanni joan sutherland donna anna pilar lorengar donna elvira marilyn horne zerlina werner krenn don ottavio donald gramm leporello leonardo monreale masetto clifford grant commendatore the ambrosian singers english chamber orchestra richard bonynge decca ingvar wixell don giovanni martina arroyo donna anna kiri te kanawa donna elvira mirella freni zerlina stuart burrows don ottavio wladimiro ganzarolli leporello richard van allan masetto luigi roni commendatore chorus and orchestra of the royal opera house covent garden colin davis philips sherrill milnes don giovanni anna tomowa sintow donna anna teresa żylis gara donna elvira edith mathis zerlina peter schreier don ottavio walter berry leporello dale duesing masetto john macurdy commendatore wiener staatsopernchor wiener philharmoniker karl böhm deutsche grammophon bernd weikl don giovanni margaret price donna anna sylvia sass donna elvira lucia popp zerlina stuart burrows don ottavio gabriel bacquier leporello alfred sramek masetto kurt moll commendatore london opera chorus london philharmonic orchestra georg solti decca thomas allen don giovanni carol vaness donna anna maria ewing donna elvira elizabeth gale zerlina keith lewis don ottavio richard van allan leporello john rawnsley masetto dimitri kavrakos commendatore glyndebourne festival chorus london philharmonic orchestra bernard haitink emi classics samuel ramey don giovanni anna tomowa sintow donna anna agnes baltsa donna elvira kathleen battle zerlina gösta winbergh don ottavio ferruccio furlanetto leporello alexander malta masetto paata burchuladze commendatore chor der deutschen oper berlin berliner philharmoniker herbert von karajan deutsche grammophon william shimell don giovanni cheryl studer donna anna carlo vaness donna elvira susanne mentzer zerlina frank lopardo don ottavio samuel ramey leporello natale de carolis masetto jan hendrik rootering commendatore wiener staatsopernchor wiener philharmoniker riccardo muti emi classics thomas allen don giovanni sharon sweet donna anna karita mattila donna elvira marie mclaughlin zerlina francisco araiza don ottavio simone alaimo leporello claudio otelli masetto robert lloyd commendatore ambrosian opera chorus academy of st martin in the fields neville marriner philips rodney gilfry don giovanni luba orgonasova donna anna charlotte margiono donna elvira eirian james zerlina christoph prégardien don ottavio ildebrando arcangelo leporello julian clarkson masetto andrea silvestrelli commendatore monteverdi choir english baroque soloists john eliot gardiner archiv produktion bryn terfel don giovanni renée fleming donna anna ann murray donna elvira monica groop zerlina herbert lippert don ottavio michele pertusi leporello roberto scaltriti masetto mario luperi commendatore london voices london philharmonic orchestra georg solti decca simon keenlyside don giovanni carmela remigio donna anna soile isokoski donna elvira patrizia pace zerlina uwe heilmann don ottavio bryn terfel leporello ildebrando arcangelo masetto matti salminen commendatore coro di ferrara musica chamber orchestra of europe claudio abbado deutsche grammophon joseph losey movie villa capra near venice in joseph losey made movie of the opera baritone ruggero raimondi played don giovanni edda moser kiri te kanawa and teresa berganza played the three ladies in the opera the movie was made in venice instead of spain it used renaissance architect andrea palladio villa capra near venice as its setting vincent canby wrote in the new york times on november the climactic confrontation between the don and the commendatore is surprisingly tepid visually ve seen better descents into hell at our own metropolitan opera and in any number of hammer horror pictures mr losey and his associates haven destroyed don giovanni but then they haven illuminated it either their film is busy disorienting spectacle superbly sung modern responses to the opera don giovanni by max slevogt the earl of harewood writes don giovanni is too full of arias many of them famous for its own dramatic good perhaps it is problem with most eighteenth century opera singers demanded them the public expected them and of course the aria is potent operatic weapon the moment for the composer to comment in depth on the drama he has set going but arias hold up the action in way it is sometimes hard to defend because you feel it was the singer who wanted it so he points to ottavio il mio tesoro his dalla sua pace and anna non mi dir as each being magnificent opportunity for singer but wonders how much they actually contribute to the drama but zerlina batti batti and anna or sai chi onore are quite different these arias contribute to the drama and move it forward nicholas kenyon writes the power don giovanni unleashes is almost too great if it is an uneven work then it is only imperfect in the way that king lear is imperfect from an excess of feeling as abert summarized it in spite of the finale the point of the opera is not to proclaim universal moral but to depict the decisive battle between two tremendous forces we sense the ultimate connection between even the most restless passion ridden human existence and the whole universe like figaro giovanni has held the stage from its premiere through to the present it has fitted the nineteenth century wish for romantic powerful mozart and the twentieth century for politicised critical mozart notes references other websites metropolitan opera synopsis'"
      ]
     },
     "execution_count": 17,
     "metadata": {},
     "output_type": "execute_result"
    },
    {
     "data": {
      "image/png": "[encoded data removed]",
      "text/plain": [
       "<Figure size 720x576 with 1 Axes>"
      ]
     },
     "metadata": {
      "needs_background": "light"
     },
     "output_type": "display_data"
    }
   ],
   "source": [
    "\" \".join(get_docs_sorted_on_column(df, \"test_3\", n = 1)[0])"
   ]
  },
  {
   "cell_type": "code",
   "execution_count": 18,
   "id": "609dfabd",
   "metadata": {
    "pycharm": {
     "name": "#%%\n"
    }
   },
   "outputs": [],
   "source": [
    "# \" \".join(get_docs_sorted_on_column(df, \"test_4\", n = 1)[0])"
   ]
  },
  {
   "cell_type": "code",
   "execution_count": 19,
   "id": "516df7cb",
   "metadata": {
    "pycharm": {
     "name": "#%%\n"
    }
   },
   "outputs": [],
   "source": [
    "# \" \".join(get_docs_sorted_on_column(df, \"test_5\", n = 1)[0])"
   ]
  },
  {
   "cell_type": "code",
   "execution_count": 20,
   "id": "8d4c0cdc",
   "metadata": {
    "pycharm": {
     "name": "#%%\n"
    }
   },
   "outputs": [],
   "source": [
    "# \" \".join(get_docs_sorted_on_column(df, \"test_6\", n = 1)[0])"
   ]
  },
  {
   "cell_type": "markdown",
   "id": "0c2bf4ce",
   "metadata": {
    "pycharm": {
     "name": "#%% md\n"
    }
   },
   "source": [
    "# document index vs differential bias"
   ]
  },
  {
   "cell_type": "code",
   "execution_count": 21,
   "id": "708c7657",
   "metadata": {
    "pycharm": {
     "name": "#%%\n"
    }
   },
   "outputs": [
    {
     "data": {
      "image/png": "[encoded data removed]",
      "text/plain": [
       "<Figure size 720x576 with 1 Axes>"
      ]
     },
     "metadata": {
      "needs_background": "light"
     },
     "output_type": "display_data"
    }
   ],
   "source": [
    "\n",
    "def plot_index_vs_bias(col):\n",
    "    ax = df[col].plot(kind=\"line\", title=col)\n",
    "    ax.set_xlabel(\"document index\")\n",
    "    ax.set_ylabel(\"$\\Delta_{doc} B $\")\n",
    "plot_index_vs_bias(\"scores_mean\")"
   ]
  },
  {
   "cell_type": "code",
   "execution_count": 22,
   "id": "30e74e10",
   "metadata": {
    "pycharm": {
     "name": "#%%\n"
    }
   },
   "outputs": [
    {
     "data": {
      "image/png": "[encoded data removed]",
      "text/plain": [
       "<Figure size 720x576 with 1 Axes>"
      ]
     },
     "metadata": {
      "needs_background": "light"
     },
     "output_type": "display_data"
    }
   ],
   "source": [
    "plot_index_vs_bias(\"test_0\")"
   ]
  },
  {
   "cell_type": "code",
   "execution_count": 23,
   "id": "021dd596",
   "metadata": {
    "pycharm": {
     "name": "#%%\n"
    }
   },
   "outputs": [
    {
     "data": {
      "image/png": "[encoded data removed]",
      "text/plain": [
       "<Figure size 720x576 with 1 Axes>"
      ]
     },
     "metadata": {
      "needs_background": "light"
     },
     "output_type": "display_data"
    }
   ],
   "source": [
    "plot_index_vs_bias(\"test_1\")"
   ]
  },
  {
   "cell_type": "code",
   "execution_count": 24,
   "id": "023b7e79",
   "metadata": {
    "pycharm": {
     "name": "#%%\n"
    }
   },
   "outputs": [
    {
     "data": {
      "image/png": "[encoded data removed]",
      "text/plain": [
       "<Figure size 720x576 with 1 Axes>"
      ]
     },
     "metadata": {
      "needs_background": "light"
     },
     "output_type": "display_data"
    }
   ],
   "source": [
    "plot_index_vs_bias(\"test_2\")"
   ]
  },
  {
   "cell_type": "code",
   "execution_count": 25,
   "id": "8a863ca5",
   "metadata": {
    "pycharm": {
     "name": "#%%\n"
    }
   },
   "outputs": [
    {
     "data": {
      "image/png": "[encoded data removed]",
      "text/plain": [
       "<Figure size 720x576 with 1 Axes>"
      ]
     },
     "metadata": {
      "needs_background": "light"
     },
     "output_type": "display_data"
    }
   ],
   "source": [
    "plot_index_vs_bias(\"test_3\")"
   ]
  },
  {
   "cell_type": "code",
   "execution_count": 26,
   "id": "32b795ef",
   "metadata": {
    "pycharm": {
     "name": "#%%\n"
    }
   },
   "outputs": [
    {
     "data": {
      "image/png": "[encoded data removed]",
      "text/plain": [
       "<Figure size 720x576 with 1 Axes>"
      ]
     },
     "metadata": {
      "needs_background": "light"
     },
     "output_type": "display_data"
    }
   ],
   "source": [
    "plot_index_vs_bias(\"test_4\")"
   ]
  },
  {
   "cell_type": "code",
   "execution_count": 27,
   "id": "e910102f",
   "metadata": {
    "pycharm": {
     "name": "#%%\n"
    }
   },
   "outputs": [
    {
     "data": {
      "image/png": "[encoded data removed]",
      "text/plain": [
       "<Figure size 720x576 with 1 Axes>"
      ]
     },
     "metadata": {
      "needs_background": "light"
     },
     "output_type": "display_data"
    }
   ],
   "source": [
    "plot_index_vs_bias(\"test_5\")"
   ]
  },
  {
   "cell_type": "code",
   "execution_count": 28,
   "id": "81646213",
   "metadata": {
    "pycharm": {
     "name": "#%%\n"
    }
   },
   "outputs": [
    {
     "data": {
      "image/png": "[encoded data removed]",
      "text/plain": [
       "<Figure size 720x576 with 1 Axes>"
      ]
     },
     "metadata": {
      "needs_background": "light"
     },
     "output_type": "display_data"
    }
   ],
   "source": [
    "plot_index_vs_bias(\"test_6\")"
   ]
  },
  {
   "cell_type": "code",
   "execution_count": 29,
   "id": "6d2629a1",
   "metadata": {
    "pycharm": {
     "name": "#%%\n"
    }
   },
   "outputs": [],
   "source": [
    "# selecting data to train biased WORD2VEC\n",
    "import pickle as pkl\n",
    "\n",
    "df['test_3'] /= df.len\n"
   ]
  },
  {
   "cell_type": "code",
   "execution_count": 30,
   "id": "d6ac7c71",
   "metadata": {
    "pycharm": {
     "name": "#%%\n"
    }
   },
   "outputs": [],
   "source": [
    "pkl.dump(df.sort_values('test_3', ascending=False).head(int(.25 * df.shape[0])).index.to_list(), open(\"dataset.pkl\", \"wb\"))"
   ]
  },
  {
   "cell_type": "code",
   "execution_count": 31,
   "id": "d89dd438",
   "metadata": {},
   "outputs": [
    {
     "data": {
      "image/png": "[encoded data removed]",
      "text/plain": [
       "<Figure size 720x576 with 1 Axes>"
      ]
     },
     "metadata": {
      "needs_background": "light"
     },
     "output_type": "display_data"
    }
   ],
   "source": [
    "plot_index_vs_bias(\"test_3\")"
   ]
  },
  {
   "cell_type": "code",
   "execution_count": 32,
   "id": "140bace4",
   "metadata": {},
   "outputs": [
    {
     "data": {
      "text/html": [
       "<div>\n",
       "<style scoped>\n",
       "    .dataframe tbody tr th:only-of-type {\n",
       "        vertical-align: middle;\n",
       "    }\n",
       "\n",
       "    .dataframe tbody tr th {\n",
       "        vertical-align: top;\n",
       "    }\n",
       "\n",
       "    .dataframe thead th {\n",
       "        text-align: right;\n",
       "    }\n",
       "</style>\n",
       "<table border=\"1\" class=\"dataframe\">\n",
       "  <thead>\n",
       "    <tr style=\"text-align: right;\">\n",
       "      <th></th>\n",
       "      <th>test_0</th>\n",
       "      <th>test_1</th>\n",
       "      <th>test_2</th>\n",
       "      <th>test_3</th>\n",
       "      <th>test_4</th>\n",
       "      <th>test_5</th>\n",
       "      <th>test_6</th>\n",
       "      <th>scores_mean</th>\n",
       "      <th>len</th>\n",
       "    </tr>\n",
       "  </thead>\n",
       "  <tbody>\n",
       "    <tr>\n",
       "      <th>60970</th>\n",
       "      <td>9.111152e-10</td>\n",
       "      <td>3.369125e-09</td>\n",
       "      <td>1.838562e-09</td>\n",
       "      <td>1.197977e-09</td>\n",
       "      <td>2.258846e-09</td>\n",
       "      <td>1.408506e-09</td>\n",
       "      <td>0.000000e+00</td>\n",
       "      <td>1.046842e-08</td>\n",
       "      <td>53</td>\n",
       "    </tr>\n",
       "    <tr>\n",
       "      <th>19657</th>\n",
       "      <td>1.674974e-08</td>\n",
       "      <td>4.099453e-08</td>\n",
       "      <td>7.002208e-08</td>\n",
       "      <td>8.459078e-10</td>\n",
       "      <td>6.793444e-10</td>\n",
       "      <td>1.593374e-08</td>\n",
       "      <td>2.277047e-09</td>\n",
       "      <td>2.977254e-08</td>\n",
       "      <td>73</td>\n",
       "    </tr>\n",
       "    <tr>\n",
       "      <th>73653</th>\n",
       "      <td>3.094784e-10</td>\n",
       "      <td>9.714583e-09</td>\n",
       "      <td>8.537162e-10</td>\n",
       "      <td>8.168078e-10</td>\n",
       "      <td>5.966521e-10</td>\n",
       "      <td>9.023748e-11</td>\n",
       "      <td>1.066975e-10</td>\n",
       "      <td>1.146903e-08</td>\n",
       "      <td>84</td>\n",
       "    </tr>\n",
       "    <tr>\n",
       "      <th>29370</th>\n",
       "      <td>4.534299e-08</td>\n",
       "      <td>0.000000e+00</td>\n",
       "      <td>0.000000e+00</td>\n",
       "      <td>7.934517e-10</td>\n",
       "      <td>5.551115e-17</td>\n",
       "      <td>0.000000e+00</td>\n",
       "      <td>0.000000e+00</td>\n",
       "      <td>1.531889e-08</td>\n",
       "      <td>78</td>\n",
       "    </tr>\n",
       "    <tr>\n",
       "      <th>71132</th>\n",
       "      <td>0.000000e+00</td>\n",
       "      <td>0.000000e+00</td>\n",
       "      <td>0.000000e+00</td>\n",
       "      <td>7.776072e-10</td>\n",
       "      <td>2.598474e-10</td>\n",
       "      <td>0.000000e+00</td>\n",
       "      <td>5.849558e-10</td>\n",
       "      <td>7.341324e-09</td>\n",
       "      <td>65</td>\n",
       "    </tr>\n",
       "    <tr>\n",
       "      <th>...</th>\n",
       "      <td>...</td>\n",
       "      <td>...</td>\n",
       "      <td>...</td>\n",
       "      <td>...</td>\n",
       "      <td>...</td>\n",
       "      <td>...</td>\n",
       "      <td>...</td>\n",
       "      <td>...</td>\n",
       "      <td>...</td>\n",
       "    </tr>\n",
       "    <tr>\n",
       "      <th>18947</th>\n",
       "      <td>0.000000e+00</td>\n",
       "      <td>0.000000e+00</td>\n",
       "      <td>0.000000e+00</td>\n",
       "      <td>7.128238e-20</td>\n",
       "      <td>5.551115e-17</td>\n",
       "      <td>3.235635e-08</td>\n",
       "      <td>0.000000e+00</td>\n",
       "      <td>4.622336e-09</td>\n",
       "      <td>6230</td>\n",
       "    </tr>\n",
       "    <tr>\n",
       "      <th>19380</th>\n",
       "      <td>0.000000e+00</td>\n",
       "      <td>0.000000e+00</td>\n",
       "      <td>0.000000e+00</td>\n",
       "      <td>7.026728e-20</td>\n",
       "      <td>5.551115e-17</td>\n",
       "      <td>9.391191e-09</td>\n",
       "      <td>0.000000e+00</td>\n",
       "      <td>1.341599e-09</td>\n",
       "      <td>6320</td>\n",
       "    </tr>\n",
       "    <tr>\n",
       "      <th>56505</th>\n",
       "      <td>1.311728e-08</td>\n",
       "      <td>4.795579e-08</td>\n",
       "      <td>4.758018e-07</td>\n",
       "      <td>6.637113e-20</td>\n",
       "      <td>3.387705e-08</td>\n",
       "      <td>7.165821e-08</td>\n",
       "      <td>2.618867e-08</td>\n",
       "      <td>9.551412e-08</td>\n",
       "      <td>6691</td>\n",
       "    </tr>\n",
       "    <tr>\n",
       "      <th>33565</th>\n",
       "      <td>9.664115e-08</td>\n",
       "      <td>3.932394e-10</td>\n",
       "      <td>0.000000e+00</td>\n",
       "      <td>6.605521e-20</td>\n",
       "      <td>5.551115e-17</td>\n",
       "      <td>0.000000e+00</td>\n",
       "      <td>0.000000e+00</td>\n",
       "      <td>1.386206e-08</td>\n",
       "      <td>6723</td>\n",
       "    </tr>\n",
       "    <tr>\n",
       "      <th>85538</th>\n",
       "      <td>0.000000e+00</td>\n",
       "      <td>0.000000e+00</td>\n",
       "      <td>0.000000e+00</td>\n",
       "      <td>4.961891e-20</td>\n",
       "      <td>5.551115e-17</td>\n",
       "      <td>2.092741e-09</td>\n",
       "      <td>0.000000e+00</td>\n",
       "      <td>2.989630e-10</td>\n",
       "      <td>8950</td>\n",
       "    </tr>\n",
       "  </tbody>\n",
       "</table>\n",
       "<p>85577 rows × 9 columns</p>\n",
       "</div>"
      ],
      "text/plain": [
       "             test_0        test_1        test_2        test_3        test_4  \\\n",
       "60970  9.111152e-10  3.369125e-09  1.838562e-09  1.197977e-09  2.258846e-09   \n",
       "19657  1.674974e-08  4.099453e-08  7.002208e-08  8.459078e-10  6.793444e-10   \n",
       "73653  3.094784e-10  9.714583e-09  8.537162e-10  8.168078e-10  5.966521e-10   \n",
       "29370  4.534299e-08  0.000000e+00  0.000000e+00  7.934517e-10  5.551115e-17   \n",
       "71132  0.000000e+00  0.000000e+00  0.000000e+00  7.776072e-10  2.598474e-10   \n",
       "...             ...           ...           ...           ...           ...   \n",
       "18947  0.000000e+00  0.000000e+00  0.000000e+00  7.128238e-20  5.551115e-17   \n",
       "19380  0.000000e+00  0.000000e+00  0.000000e+00  7.026728e-20  5.551115e-17   \n",
       "56505  1.311728e-08  4.795579e-08  4.758018e-07  6.637113e-20  3.387705e-08   \n",
       "33565  9.664115e-08  3.932394e-10  0.000000e+00  6.605521e-20  5.551115e-17   \n",
       "85538  0.000000e+00  0.000000e+00  0.000000e+00  4.961891e-20  5.551115e-17   \n",
       "\n",
       "             test_5        test_6   scores_mean   len  \n",
       "60970  1.408506e-09  0.000000e+00  1.046842e-08    53  \n",
       "19657  1.593374e-08  2.277047e-09  2.977254e-08    73  \n",
       "73653  9.023748e-11  1.066975e-10  1.146903e-08    84  \n",
       "29370  0.000000e+00  0.000000e+00  1.531889e-08    78  \n",
       "71132  0.000000e+00  5.849558e-10  7.341324e-09    65  \n",
       "...             ...           ...           ...   ...  \n",
       "18947  3.235635e-08  0.000000e+00  4.622336e-09  6230  \n",
       "19380  9.391191e-09  0.000000e+00  1.341599e-09  6320  \n",
       "56505  7.165821e-08  2.618867e-08  9.551412e-08  6691  \n",
       "33565  0.000000e+00  0.000000e+00  1.386206e-08  6723  \n",
       "85538  2.092741e-09  0.000000e+00  2.989630e-10  8950  \n",
       "\n",
       "[85577 rows x 9 columns]"
      ]
     },
     "execution_count": 32,
     "metadata": {},
     "output_type": "execute_result"
    }
   ],
   "source": [
    "df.sort_values('test_3', ascending=False)"
   ]
  },
  {
   "cell_type": "code",
   "execution_count": 34,
   "id": "e55e050f",
   "metadata": {},
   "outputs": [
    {
     "data": {
      "text/plain": [
       "'the dixie cups is an american girl group they perform rhythm and blues mixed with pop music the group formed in in new orleans chapel of love is their best known song the group members are barbara ann hawkins joan johnson and rosa lee hawkins there have been other members in the past'"
      ]
     },
     "execution_count": 34,
     "metadata": {},
     "output_type": "execute_result"
    }
   ],
   "source": [
    "\" \".join(ds.lines[60970])"
   ]
  },
  {
   "cell_type": "code",
   "execution_count": null,
   "id": "9d17a3a7",
   "metadata": {},
   "outputs": [],
   "source": []
  }
 ],
 "metadata": {
  "kernelspec": {
   "display_name": "Python 3 (ipykernel)",
   "language": "python",
   "name": "python3"
  },
  "language_info": {
   "codemirror_mode": {
    "name": "ipython",
    "version": 3
   },
   "file_extension": ".py",
   "mimetype": "text/x-python",
   "name": "python",
   "nbconvert_exporter": "python",
   "pygments_lexer": "ipython3",
   "version": "3.7.13"
  }
 },
 "nbformat": 4,
 "nbformat_minor": 5
}
