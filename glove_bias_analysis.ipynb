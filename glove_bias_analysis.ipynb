{
 "cells": [
  {
   "cell_type": "code",
   "execution_count": 1,
   "id": "8ba2915c",
   "metadata": {
    "pycharm": {
     "name": "#%%\n"
    }
   },
   "outputs": [],
   "source": [
    "import numpy as np\n",
    "import pandas as pd\n",
    "import matplotlib\n",
    "import matplotlib.pyplot as plt\n",
    "import seaborn as sns\n",
    "import warnings\n",
    "\n",
    "matplotlib.rcParams['figure.figsize'] = (10, 8)\n",
    "warnings.filterwarnings('ignore')"
   ]
  },
  {
   "cell_type": "code",
   "execution_count": 2,
   "id": "6391d6a6",
   "metadata": {
    "pycharm": {
     "name": "#%%\n"
    }
   },
   "outputs": [
    {
     "name": "stdout",
     "output_type": "stream",
     "text": [
      "85577 7\n"
     ]
    }
   ],
   "source": [
    "scores = np.load('scores.npy')\n",
    "# 85577 docs and 7 weat tests\n",
    "NUM_DOCS, NUM_TESTS = scores.shape\n",
    "print(NUM_DOCS, NUM_TESTS)"
   ]
  },
  {
   "cell_type": "code",
   "execution_count": 3,
   "id": "db45e327",
   "metadata": {
    "pycharm": {
     "name": "#%%\n"
    }
   },
   "outputs": [
    {
     "data": {
      "text/plain": [
       "array([[ 0.88889837,  1.30532692, -0.11861331, ..., -0.01755389,\n",
       "         0.93818117,  0.73727047],\n",
       "       [ 0.88889843,  1.3053272 , -0.11861419, ..., -0.0175539 ,\n",
       "         0.93818119,  0.73727048],\n",
       "       [ 0.88889838,  1.30532703, -0.11861412, ..., -0.01755379,\n",
       "         0.93818119,  0.7372705 ],\n",
       "       ...,\n",
       "       [ 0.88889838,  1.30532705, -0.11861413, ..., -0.01755389,\n",
       "         0.93818119,  0.73727048],\n",
       "       [ 0.88889839,  1.30532705, -0.11861413, ..., -0.01755391,\n",
       "         0.93818119,  0.73727048],\n",
       "       [ 0.88889839,  1.30532705, -0.11861413, ..., -0.01755391,\n",
       "         0.93818119,  0.73727047]])"
      ]
     },
     "execution_count": 3,
     "metadata": {},
     "output_type": "execute_result"
    }
   ],
   "source": [
    "scores"
   ]
  },
  {
   "cell_type": "markdown",
   "id": "fb526321",
   "metadata": {
    "pycharm": {
     "name": "#%%\n"
    }
   },
   "source": [
    "# calculate differential bias for each document\n",
    "\n",
    "$\\Delta_{doc} B \\approx B_{weat}(w^*) - B_{weat}(\\tilde{w})$"
   ]
  },
  {
   "cell_type": "code",
   "execution_count": 4,
   "id": "3827faf4",
   "metadata": {
    "pycharm": {
     "name": "#%%\n"
    }
   },
   "outputs": [],
   "source": [
    "from models.fast_glove import FastGlove\n",
    "from utils.weat import WEAT\n",
    "from utils.dataset import Dataset"
   ]
  },
  {
   "cell_type": "code",
   "execution_count": 5,
   "id": "09227271",
   "metadata": {
    "pycharm": {
     "name": "#%%\n"
    }
   },
   "outputs": [],
   "source": [
    "model = FastGlove()\n",
    "scorer = WEAT(model, model.M.W)\n",
    "ds = Dataset(\"../simplewiki-20171103-pages-articles-multistream.xml.bz2\")"
   ]
  },
  {
   "cell_type": "code",
   "execution_count": 6,
   "id": "e145d135",
   "metadata": {
    "pycharm": {
     "name": "#%%\n"
    }
   },
   "outputs": [],
   "source": [
    "b_weat_star = np.array(scorer.get_scores())"
   ]
  },
  {
   "cell_type": "code",
   "execution_count": 7,
   "id": "a10642fb",
   "metadata": {
    "pycharm": {
     "name": "#%%\n"
    }
   },
   "outputs": [
    {
     "data": {
      "text/html": [
       "<div>\n",
       "<style scoped>\n",
       "    .dataframe tbody tr th:only-of-type {\n",
       "        vertical-align: middle;\n",
       "    }\n",
       "\n",
       "    .dataframe tbody tr th {\n",
       "        vertical-align: top;\n",
       "    }\n",
       "\n",
       "    .dataframe thead th {\n",
       "        text-align: right;\n",
       "    }\n",
       "</style>\n",
       "<table border=\"1\" class=\"dataframe\">\n",
       "  <thead>\n",
       "    <tr style=\"text-align: right;\">\n",
       "      <th></th>\n",
       "      <th>test_0</th>\n",
       "      <th>test_1</th>\n",
       "      <th>test_2</th>\n",
       "      <th>test_3</th>\n",
       "      <th>test_4</th>\n",
       "      <th>test_5</th>\n",
       "      <th>test_6</th>\n",
       "    </tr>\n",
       "  </thead>\n",
       "  <tbody>\n",
       "    <tr>\n",
       "      <th>0</th>\n",
       "      <td>1.456169e-08</td>\n",
       "      <td>1.307759e-07</td>\n",
       "      <td>8.121568e-07</td>\n",
       "      <td>1.850067e-08</td>\n",
       "      <td>2.289368e-08</td>\n",
       "      <td>2.148733e-08</td>\n",
       "      <td>2.339081e-09</td>\n",
       "    </tr>\n",
       "    <tr>\n",
       "      <th>1</th>\n",
       "      <td>4.727765e-08</td>\n",
       "      <td>1.461456e-07</td>\n",
       "      <td>6.461933e-08</td>\n",
       "      <td>2.535762e-09</td>\n",
       "      <td>1.003561e-08</td>\n",
       "      <td>2.076838e-09</td>\n",
       "      <td>2.816465e-09</td>\n",
       "    </tr>\n",
       "    <tr>\n",
       "      <th>2</th>\n",
       "      <td>9.814450e-09</td>\n",
       "      <td>2.881559e-08</td>\n",
       "      <td>9.886204e-09</td>\n",
       "      <td>2.220446e-16</td>\n",
       "      <td>1.234048e-07</td>\n",
       "      <td>4.967784e-09</td>\n",
       "      <td>2.950933e-08</td>\n",
       "    </tr>\n",
       "    <tr>\n",
       "      <th>3</th>\n",
       "      <td>3.330669e-16</td>\n",
       "      <td>2.220446e-16</td>\n",
       "      <td>1.387779e-17</td>\n",
       "      <td>2.220446e-16</td>\n",
       "      <td>1.015151e-07</td>\n",
       "      <td>1.110223e-16</td>\n",
       "      <td>4.472420e-09</td>\n",
       "    </tr>\n",
       "    <tr>\n",
       "      <th>4</th>\n",
       "      <td>3.330669e-16</td>\n",
       "      <td>2.220446e-16</td>\n",
       "      <td>2.524349e-10</td>\n",
       "      <td>2.220446e-16</td>\n",
       "      <td>1.006140e-15</td>\n",
       "      <td>1.110223e-16</td>\n",
       "      <td>3.330669e-16</td>\n",
       "    </tr>\n",
       "  </tbody>\n",
       "</table>\n",
       "</div>"
      ],
      "text/plain": [
       "         test_0        test_1        test_2        test_3        test_4  \\\n",
       "0  1.456169e-08  1.307759e-07  8.121568e-07  1.850067e-08  2.289368e-08   \n",
       "1  4.727765e-08  1.461456e-07  6.461933e-08  2.535762e-09  1.003561e-08   \n",
       "2  9.814450e-09  2.881559e-08  9.886204e-09  2.220446e-16  1.234048e-07   \n",
       "3  3.330669e-16  2.220446e-16  1.387779e-17  2.220446e-16  1.015151e-07   \n",
       "4  3.330669e-16  2.220446e-16  2.524349e-10  2.220446e-16  1.006140e-15   \n",
       "\n",
       "         test_5        test_6  \n",
       "0  2.148733e-08  2.339081e-09  \n",
       "1  2.076838e-09  2.816465e-09  \n",
       "2  4.967784e-09  2.950933e-08  \n",
       "3  1.110223e-16  4.472420e-09  \n",
       "4  1.110223e-16  3.330669e-16  "
      ]
     },
     "execution_count": 7,
     "metadata": {},
     "output_type": "execute_result"
    }
   ],
   "source": [
    "# this dataframe has weat scores for documents\n",
    "df = pd.DataFrame(np.abs(scores - b_weat_star), columns=[\"test_{}\".format(i) for i in range(NUM_TESTS)])\n",
    "df.head()"
   ]
  },
  {
   "cell_type": "code",
   "execution_count": null,
   "outputs": [],
   "source": [
    "# sample mean score\n",
    "df['scores_mean'] = df.mean(axis=1)\n",
    "# length of document\n",
    "df['len'] = df.index.map(lambda x: len(ds.lines[x]))"
   ],
   "metadata": {
    "collapsed": false,
    "pycharm": {
     "name": "#%%\n"
    }
   }
  },
  {
   "cell_type": "code",
   "execution_count": null,
   "outputs": [],
   "source": [
    "def get_docs_sorted_on_column(dframe, col, n=2):\n",
    "    \"\"\"\n",
    "    col: test name\n",
    "    n: number of docs to return\n",
    "    \"\"\"\n",
    "    dframe[col].plot(kind=\"density\", title=col)\n",
    "    series = dframe.sort_values(col, ascending=False).head(n)\n",
    "    return [ds.lines[i] for i in series.index]"
   ],
   "metadata": {
    "collapsed": false,
    "pycharm": {
     "name": "#%%\n"
    }
   }
  },
  {
   "cell_type": "code",
   "execution_count": null,
   "outputs": [],
   "source": [
    "# #most biased on mean score\n",
    "col = 'scores_mean'\n",
    "docs = df.sort_values('scores_mean', ascending=False).head(10)[col]"
   ],
   "metadata": {
    "collapsed": false,
    "pycharm": {
     "name": "#%%\n"
    }
   }
  },
  {
   "cell_type": "code",
   "execution_count": null,
   "outputs": [],
   "source": [
    "docs"
   ],
   "metadata": {
    "collapsed": false,
    "pycharm": {
     "name": "#%%\n"
    }
   }
  },
  {
   "cell_type": "markdown",
   "source": [
    "# top most biased document for each test"
   ],
   "metadata": {
    "collapsed": false,
    "pycharm": {
     "name": "#%% md\n"
    }
   }
  },
  {
   "cell_type": "code",
   "execution_count": null,
   "outputs": [],
   "source": [
    "\" \".join(get_docs_sorted_on_column(df, \"scores_mean\", n = 1)[0])"
   ],
   "metadata": {
    "collapsed": false,
    "pycharm": {
     "name": "#%%\n"
    }
   }
  },
  {
   "cell_type": "code",
   "execution_count": null,
   "outputs": [],
   "source": [
    "\" \".join(get_docs_sorted_on_column(df, \"test_0\", n = 1)[0])"
   ],
   "metadata": {
    "collapsed": false,
    "pycharm": {
     "name": "#%%\n"
    }
   }
  },
  {
   "cell_type": "code",
   "execution_count": null,
   "outputs": [],
   "source": [
    "\" \".join(get_docs_sorted_on_column(df, \"test_1\", n = 1)[0])"
   ],
   "metadata": {
    "collapsed": false,
    "pycharm": {
     "name": "#%%\n"
    }
   }
  },
  {
   "cell_type": "code",
   "execution_count": null,
   "outputs": [],
   "source": [
    "\" \".join(get_docs_sorted_on_column(df, \"test_2\", n = 1)[0])"
   ],
   "metadata": {
    "collapsed": false,
    "pycharm": {
     "name": "#%%\n"
    }
   }
  },
  {
   "cell_type": "code",
   "execution_count": null,
   "outputs": [],
   "source": [
    "\" \".join(get_docs_sorted_on_column(df, \"test_3\", n = 1)[0])"
   ],
   "metadata": {
    "collapsed": false,
    "pycharm": {
     "name": "#%%\n"
    }
   }
  },
  {
   "cell_type": "code",
   "execution_count": null,
   "outputs": [],
   "source": [
    "\" \".join(get_docs_sorted_on_column(df, \"test_4\", n = 1)[0])"
   ],
   "metadata": {
    "collapsed": false,
    "pycharm": {
     "name": "#%%\n"
    }
   }
  },
  {
   "cell_type": "code",
   "execution_count": null,
   "outputs": [],
   "source": [
    "\" \".join(get_docs_sorted_on_column(df, \"test_5\", n = 1)[0])"
   ],
   "metadata": {
    "collapsed": false,
    "pycharm": {
     "name": "#%%\n"
    }
   }
  },
  {
   "cell_type": "code",
   "execution_count": null,
   "outputs": [],
   "source": [
    "\" \".join(get_docs_sorted_on_column(df, \"test_6\", n = 1)[0])"
   ],
   "metadata": {
    "collapsed": false,
    "pycharm": {
     "name": "#%%\n"
    }
   }
  },
  {
   "cell_type": "markdown",
   "source": [
    "# document index vs differential bias"
   ],
   "metadata": {
    "collapsed": false,
    "pycharm": {
     "name": "#%% md\n"
    }
   }
  },
  {
   "cell_type": "code",
   "execution_count": null,
   "outputs": [],
   "source": [
    "\n",
    "def plot_index_vs_bias(col):\n",
    "    ax = df[col].plot(kind=\"line\", title=col)\n",
    "    ax.set_xlabel(\"document index\")\n",
    "    ax.set_ylabel(\"$\\Delta_{doc} B $\")\n",
    "plot_index_vs_bias(\"scores_mean\")"
   ],
   "metadata": {
    "collapsed": false,
    "pycharm": {
     "name": "#%%\n"
    }
   }
  },
  {
   "cell_type": "code",
   "execution_count": null,
   "outputs": [],
   "source": [
    "plot_index_vs_bias(\"test_0\")"
   ],
   "metadata": {
    "collapsed": false,
    "pycharm": {
     "name": "#%%\n"
    }
   }
  },
  {
   "cell_type": "code",
   "execution_count": null,
   "outputs": [],
   "source": [
    "plot_index_vs_bias(\"test_1\")"
   ],
   "metadata": {
    "collapsed": false,
    "pycharm": {
     "name": "#%%\n"
    }
   }
  },
  {
   "cell_type": "code",
   "execution_count": null,
   "outputs": [],
   "source": [
    "plot_index_vs_bias(\"test_2\")"
   ],
   "metadata": {
    "collapsed": false,
    "pycharm": {
     "name": "#%%\n"
    }
   }
  },
  {
   "cell_type": "code",
   "execution_count": null,
   "outputs": [],
   "source": [
    "plot_index_vs_bias(\"test_3\")"
   ],
   "metadata": {
    "collapsed": false,
    "pycharm": {
     "name": "#%%\n"
    }
   }
  },
  {
   "cell_type": "code",
   "execution_count": null,
   "outputs": [],
   "source": [
    "plot_index_vs_bias(\"test_4\")"
   ],
   "metadata": {
    "collapsed": false,
    "pycharm": {
     "name": "#%%\n"
    }
   }
  },
  {
   "cell_type": "code",
   "execution_count": null,
   "outputs": [],
   "source": [
    "plot_index_vs_bias(\"test_5\")"
   ],
   "metadata": {
    "collapsed": false,
    "pycharm": {
     "name": "#%%\n"
    }
   }
  },
  {
   "cell_type": "code",
   "execution_count": null,
   "outputs": [],
   "source": [
    "plot_index_vs_bias(\"test_6\")"
   ],
   "metadata": {
    "collapsed": false,
    "pycharm": {
     "name": "#%%\n"
    }
   }
  },
  {
   "cell_type": "code",
   "execution_count": null,
   "outputs": [],
   "source": [
    "# selecting data to train biased WORD2VEC\n",
    "import pickle as pkl\n",
    "\n",
    "df['test_3'] /= df.len\n"
   ],
   "metadata": {
    "collapsed": false,
    "pycharm": {
     "name": "#%%\n"
    }
   }
  },
  {
   "cell_type": "code",
   "execution_count": null,
   "outputs": [],
   "source": [
    "pkl.dump(df.sort_values('test_3', ascending=False).head(int(.25 * df.shape[0])).index.to_list(), open(\"dataset.pkl\", \"wb\"))"
   ],
   "metadata": {
    "collapsed": false,
    "pycharm": {
     "name": "#%%\n"
    }
   }
  },
  {
   "cell_type": "code",
   "execution_count": null,
   "outputs": [],
   "source": [],
   "metadata": {
    "collapsed": false,
    "pycharm": {
     "name": "#%%\n"
    }
   }
  },
  {
   "cell_type": "code",
   "execution_count": 28,
   "id": "febbfa8a",
   "metadata": {},
   "outputs": [],
   "source": [
    "# selecting data to train biased WORD2VEC\n",
    "import pickle as pkl\n",
    "\n",
    "df['test_3'] /= df.len\n"
   ]
  },
  {
   "cell_type": "code",
   "execution_count": 38,
   "id": "2c3e7de2",
   "metadata": {},
   "outputs": [],
   "source": [
    "pkl.dump(df.sort_values('test_3', ascending=False).head(int(.25 * df.shape[0])).index.to_list(), open(\"dataset.pkl\", \"wb\"))"
   ]
  },
  {
   "cell_type": "code",
   "execution_count": null,
   "id": "34f23093",
   "metadata": {},
   "outputs": [],
   "source": []
  }
 ],
 "metadata": {
  "kernelspec": {
   "display_name": "Python 3 (ipykernel)",
   "language": "python",
   "name": "python3"
  },
  "language_info": {
   "codemirror_mode": {
    "name": "ipython",
    "version": 3
   },
   "file_extension": ".py",
   "mimetype": "text/x-python",
   "name": "python",
   "nbconvert_exporter": "python",
   "pygments_lexer": "ipython3",
   "version": "3.7.13"
  }
 },
 "nbformat": 4,
 "nbformat_minor": 5
}